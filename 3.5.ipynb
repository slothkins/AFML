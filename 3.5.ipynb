{
 "cells": [
  {
   "cell_type": "code",
   "id": "initial_id",
   "metadata": {
    "collapsed": true,
    "ExecuteTime": {
     "end_time": "2025-03-11T16:54:28.701985Z",
     "start_time": "2025-03-11T16:54:27.880138Z"
    }
   },
   "source": [
    "import numpy as np\n",
    "import pandas as pd\n",
    "import matplotlib.pyplot as plt\n",
    "import my_afml_fncs as my_afml\n",
    "from sklearn.ensemble import RandomForestClassifier\n",
    "from sklearn.model_selection import train_test_split\n",
    "from sklearn.metrics import accuracy_score, classification_report"
   ],
   "outputs": [],
   "execution_count": 1
  },
  {
   "metadata": {},
   "cell_type": "markdown",
   "source": "LOAD DATA",
   "id": "b2a1fa9ed5d45bbc"
  },
  {
   "metadata": {
    "ExecuteTime": {
     "end_time": "2025-03-11T16:54:29.708116Z",
     "start_time": "2025-03-11T16:54:28.704979Z"
    }
   },
   "cell_type": "code",
   "source": [
    "filename_end=\"2019_2024\"\n",
    "dollar_bars_df=pd.read_csv(f'tick_data/bars/dollar_bars_barchart_{filename_end}.csv')\n",
    "dollar_bars_df['bar_number'] = range(len(dollar_bars_df))"
   ],
   "id": "7dd6fe7ff23ca167",
   "outputs": [],
   "execution_count": 2
  },
  {
   "metadata": {},
   "cell_type": "markdown",
   "source": "Convert to datetime and set it to index",
   "id": "3913d4b76aba183f"
  },
  {
   "metadata": {
    "ExecuteTime": {
     "end_time": "2025-03-11T16:54:29.982372Z",
     "start_time": "2025-03-11T16:54:29.774891Z"
    }
   },
   "cell_type": "code",
   "source": [
    "dollar_bars_df['Date']=pd.to_datetime(dollar_bars_df['Date'])\n",
    "dollar_bars_df.set_index('Date',inplace=True)\n",
    "dollar_bars_df.sort_index(inplace=True)"
   ],
   "id": "b978e5bb4cd0920d",
   "outputs": [],
   "execution_count": 3
  },
  {
   "metadata": {},
   "cell_type": "markdown",
   "source": "Create an array of daily vols",
   "id": "bcf22d1a181c002e"
  },
  {
   "metadata": {
    "ExecuteTime": {
     "end_time": "2025-03-11T16:54:30.507586Z",
     "start_time": "2025-03-11T16:54:29.993192Z"
    }
   },
   "cell_type": "code",
   "source": "dollar_vol=my_afml.getDailyVol(dollar_bars_df.Close)",
   "id": "297775b916167bde",
   "outputs": [],
   "execution_count": 4
  },
  {
   "metadata": {},
   "cell_type": "markdown",
   "source": "Build a cusum filter as a possible feature. Used earlier in 3.1",
   "id": "41988c2388c5af7a"
  },
  {
   "metadata": {
    "ExecuteTime": {
     "end_time": "2025-03-11T16:54:30.513392Z",
     "start_time": "2025-03-11T16:54:30.511419Z"
    }
   },
   "cell_type": "code",
   "source": [
    "# dollar_es_cusum_events=my_afml.getTEvents(dollar_bars_df.Close,dollar_vol.mean())\n",
    "# print('Dollar bar CUSUM events:',dollar_es_cusum_events.shape)"
   ],
   "id": "19cc971b7f08ce1f",
   "outputs": [],
   "execution_count": 5
  },
  {
   "metadata": {},
   "cell_type": "markdown",
   "source": "Define moving average params",
   "id": "abeea366493fd7d7"
  },
  {
   "metadata": {
    "ExecuteTime": {
     "end_time": "2025-03-11T16:54:30.558127Z",
     "start_time": "2025-03-11T16:54:30.556281Z"
    }
   },
   "cell_type": "code",
   "source": [
    "# Start of 3.4\n",
    "# Define moving average windows\n",
    "short_window = 20  # e.g., 50 periods\n",
    "long_window = 50  # e.g., 200 periods"
   ],
   "id": "85b9492c3cf273d",
   "outputs": [],
   "execution_count": 6
  },
  {
   "metadata": {},
   "cell_type": "markdown",
   "source": "Create events array where the moving average switches from in to out for dollar bars\n",
   "id": "2ecf0db8e45432d9"
  },
  {
   "metadata": {
    "ExecuteTime": {
     "end_time": "2025-03-11T16:54:30.603876Z",
     "start_time": "2025-03-11T16:54:30.602110Z"
    }
   },
   "cell_type": "code",
   "source": [
    "# # create events where the moving averages cross over\n",
    "# dollar_events = my_afml.movingAverageCrossover(dollar_bars_df.Close, short_window, long_window)\n",
    "# # try this with a crossover sign change\n",
    "# dollar_events['signal_switch'] = dollar_events.signal.diff() / 2\n",
    "# # drop rows with any NaN values\n",
    "# dollar_events = dollar_events.dropna()\n",
    "# # filter rows where signal_switch is not zero\n",
    "# dollar_events = dollar_events[dollar_events['signal_switch'] != 0]"
   ],
   "id": "571a8796d1d5961a",
   "outputs": [],
   "execution_count": 7
  },
  {
   "metadata": {
    "ExecuteTime": {
     "end_time": "2025-03-11T16:54:31.345043Z",
     "start_time": "2025-03-11T16:54:30.650977Z"
    }
   },
   "cell_type": "code",
   "source": [
    "# add the crossover data and std to volume_bars for the secondary model\n",
    "dollar_bars_df[['short_ma', 'long_ma', 'mov_avg_signal']] = my_afml.movingAverageCrossover(dollar_bars_df.Close, short_window, long_window)\n",
    "dollar_bars_df['1d_std']=my_afml.getDailyVol(dollar_bars_df.Close)\n",
    "dollar_bars_df['correl']=dollar_bars_df['Close'].pct_change().autocorr(lag=1)"
   ],
   "id": "dd7954e6c8ac486b",
   "outputs": [],
   "execution_count": 8
  },
  {
   "metadata": {},
   "cell_type": "markdown",
   "source": [
    "\n",
    "Mean  reverting strategy with Bollinger Bands"
   ],
   "id": "d09b11cb08284fdc"
  },
  {
   "metadata": {
    "ExecuteTime": {
     "end_time": "2025-03-11T16:54:31.427527Z",
     "start_time": "2025-03-11T16:54:31.352843Z"
    }
   },
   "cell_type": "code",
   "source": [
    "# Parameters\n",
    "bb_window = 100\n",
    "bb_num_std = 2\n",
    "\n",
    "# Calculate Bollinger Bands\n",
    "dollar_bars_df['SMA'] = dollar_bars_df['Close'].rolling(window=bb_window).mean()\n",
    "dollar_bars_df['Rolling_STD'] = dollar_bars_df['Close'].rolling(window=bb_window).std()\n",
    "dollar_bars_df['bollinger_upper'] = dollar_bars_df['SMA'] + (dollar_bars_df['Rolling_STD'] * bb_num_std)\n",
    "dollar_bars_df['bollinger_lower'] = dollar_bars_df['SMA'] - (dollar_bars_df['Rolling_STD'] * bb_num_std)\n",
    "\n",
    "# Step 1: Generate Initial Signals\n",
    "dollar_bars_df['mean_reverting_signal'] = 0\n",
    "dollar_bars_df.loc[dollar_bars_df['Close'] > dollar_bars_df['bollinger_upper'], 'mean_reverting_signal'] = -1\n",
    "dollar_bars_df.loc[dollar_bars_df['Close'] < dollar_bars_df['bollinger_lower'], 'mean_reverting_signal'] = 1"
   ],
   "id": "63911a8d3567f874",
   "outputs": [],
   "execution_count": 9
  },
  {
   "metadata": {},
   "cell_type": "markdown",
   "source": "",
   "id": "2b69ca7d240e6aa7"
  },
  {
   "metadata": {
    "ExecuteTime": {
     "end_time": "2025-03-11T16:54:31.722050Z",
     "start_time": "2025-03-11T16:54:31.459695Z"
    }
   },
   "cell_type": "code",
   "source": [
    "\n",
    "# Step 2: Filter Out Consecutive Duplicate Signals\n",
    "dollar_bars_df['prev_signal'] = dollar_bars_df['mean_reverting_signal'].shift(1)\n",
    "signal_condition = (dollar_bars_df['mean_reverting_signal'] != 0) & (dollar_bars_df['prev_signal'] == 0)\n",
    "dollar_bars_df['bb_trade_signal'] = np.where(signal_condition, dollar_bars_df['mean_reverting_signal'], 0)\n",
    "dollar_bars_df.dropna(inplace=True)\n",
    "dollar_bars_df.drop(columns=['prev_signal'], inplace=True)"
   ],
   "id": "a85f955c8661a83d",
   "outputs": [],
   "execution_count": 10
  },
  {
   "metadata": {
    "ExecuteTime": {
     "end_time": "2025-03-11T16:54:31.758552Z",
     "start_time": "2025-03-11T16:54:31.729970Z"
    }
   },
   "cell_type": "code",
   "source": [
    "bb_events=dollar_bars_df[['bar_number','Close','bb_trade_signal']]\n",
    "bb_events=bb_events.dropna()\n",
    "bb_events=bb_events[bb_events['bb_trade_signal']!=0]\n",
    "bb_t1=my_afml.getVb(dollar_bars_df.Close,bb_events.index)"
   ],
   "id": "eac6290a84b9828d",
   "outputs": [],
   "execution_count": 11
  },
  {
   "metadata": {
    "ExecuteTime": {
     "end_time": "2025-03-11T16:54:46.505472Z",
     "start_time": "2025-03-11T16:54:31.778658Z"
    }
   },
   "cell_type": "code",
   "source": [
    "# now set ptsl to be lopsided [0,2] which we can do because we now have a 'side' from the bb. Trigger has column called 'side'\n",
    "ptsl=[0,2] #zero mean no barrier, so we have no profit target but a 2* stop loss\n",
    "# target is set to be standard deviation\n",
    "trgt= dollar_vol * dollar_bars_df.Close\n",
    "# trgt is variable but we can set a fixed minimum return\n",
    "minRet=0.00003\n",
    "numThread=128\n",
    "# get events will find time of first touch after each event\n",
    "bb_trigger_secondary_model=my_afml.getEvents(dollar_bars_df.Close, bb_events.index, ptsl, trgt, minRet, numThread, bb_t1, bb_events.bb_trade_signal)"
   ],
   "id": "73a35cd0c9c0e52a",
   "outputs": [
    {
     "name": "stdout",
     "output_type": "stream",
     "text": [
      "Running processJobs\n"
     ]
    },
    {
     "name": "stderr",
     "output_type": "stream",
     "text": [
      "2025-03-11 16:54:45.960306 100.0% applyPtSlOnT1 done after 0.2 minutes. Remaining 0.0 minutes.\n"
     ]
    }
   ],
   "execution_count": 12
  },
  {
   "metadata": {
    "ExecuteTime": {
     "end_time": "2025-03-11T16:54:46.527633Z",
     "start_time": "2025-03-11T16:54:46.509310Z"
    }
   },
   "cell_type": "code",
   "source": "bb_bins_secondary_model=my_afml.getBins(bb_trigger_secondary_model,dollar_bars_df.Close)",
   "id": "11c52e8f392d3a10",
   "outputs": [],
   "execution_count": 13
  },
  {
   "metadata": {
    "ExecuteTime": {
     "end_time": "2025-03-11T16:56:05.973058Z",
     "start_time": "2025-03-11T16:56:05.891063Z"
    }
   },
   "cell_type": "code",
   "source": [
    "# now fit same data using these labels\n",
    "bb_X=dollar_bars_df.loc[bb_bins_secondary_model.index,:]\n",
    "bb_y=bb_bins_secondary_model['bin']"
   ],
   "id": "ad089635b2d50e9a",
   "outputs": [],
   "execution_count": 14
  },
  {
   "metadata": {
    "ExecuteTime": {
     "end_time": "2025-03-11T16:57:59.675718Z",
     "start_time": "2025-03-11T16:57:59.672350Z"
    }
   },
   "cell_type": "code",
   "source": [
    "# Prepare the data\n",
    "features = bb_X[['correl','1d_std','mov_avg_signal']]\n",
    "features.reset_index(drop=True, inplace=True)\n",
    "# features = features.drop(columns=['Symbol'])\n",
    "labels = bb_y  # Target variable"
   ],
   "id": "6246067c80d0027d",
   "outputs": [],
   "execution_count": 17
  },
  {
   "metadata": {
    "ExecuteTime": {
     "end_time": "2025-03-11T16:58:31.110954Z",
     "start_time": "2025-03-11T16:58:22.759521Z"
    }
   },
   "cell_type": "code",
   "source": [
    "X_train, X_test, y_train, y_test = train_test_split(features, labels, test_size=0.3, random_state=42)\n",
    "\n",
    "# Train RandomForestClassifier\n",
    "clf = RandomForestClassifier(n_estimators=100, random_state=42)\n",
    "clf.fit(X_train, y_train)\n",
    "\n",
    "# Predict and evaluate\n",
    "y_pred = clf.predict(X_test)\n",
    "accuracy = accuracy_score(y_test, y_pred)\n",
    "print(f\"Accuracy: {accuracy}\")\n",
    "print(classification_report(y_test, dollar_bars_df.loc[y_test.index]))"
   ],
   "id": "175fc5cb227bf921",
   "outputs": [
    {
     "name": "stdout",
     "output_type": "stream",
     "text": [
      "Accuracy: 0.5019710906701709\n",
      "              precision    recall  f1-score   support\n",
      "\n",
      "         0.0       0.51      0.50      0.51      6541\n",
      "         1.0       0.50      0.50      0.50      6396\n",
      "\n",
      "    accuracy                           0.50     12937\n",
      "   macro avg       0.50      0.50      0.50     12937\n",
      "weighted avg       0.50      0.50      0.50     12937\n",
      "\n"
     ]
    }
   ],
   "execution_count": 18
  },
  {
   "metadata": {
    "ExecuteTime": {
     "end_time": "2025-03-11T17:20:11.254344Z",
     "start_time": "2025-03-11T17:20:11.242351Z"
    }
   },
   "cell_type": "code",
   "source": [
    "\n",
    "dollar_bars_df.loc[y_test.index]['bb_trade_signal']"
   ],
   "id": "afa5921973782f50",
   "outputs": [
    {
     "data": {
      "text/plain": [
       "Date\n",
       "2022-08-26 09:29:00    1\n",
       "2020-03-18 13:10:00    1\n",
       "2019-04-17 14:14:00   -1\n",
       "2021-05-04 11:06:00   -1\n",
       "2023-09-14 17:50:00   -1\n",
       "                      ..\n",
       "2020-04-17 14:18:00    1\n",
       "2022-02-16 10:22:00    1\n",
       "2021-07-06 14:35:00    1\n",
       "2023-10-26 17:11:00    1\n",
       "2021-11-24 20:20:00   -1\n",
       "Name: bb_trade_signal, Length: 12937, dtype: int64"
      ]
     },
     "execution_count": 24,
     "metadata": {},
     "output_type": "execute_result"
    }
   ],
   "execution_count": 24
  },
  {
   "metadata": {
    "ExecuteTime": {
     "end_time": "2025-03-11T17:18:51.996349Z",
     "start_time": "2025-03-11T17:18:51.992444Z"
    }
   },
   "cell_type": "code",
   "source": "y_test",
   "id": "dfb68dfc8b0d81c9",
   "outputs": [
    {
     "data": {
      "text/plain": [
       "Date\n",
       "2022-08-26 09:29:00    0.0\n",
       "2020-03-18 13:10:00    1.0\n",
       "2019-04-17 14:14:00    1.0\n",
       "2021-05-04 11:06:00    1.0\n",
       "2023-09-14 17:50:00    1.0\n",
       "                      ... \n",
       "2020-04-17 14:18:00    1.0\n",
       "2022-02-16 10:22:00    0.0\n",
       "2021-07-06 14:35:00    1.0\n",
       "2023-10-26 17:11:00    1.0\n",
       "2021-11-24 20:20:00    0.0\n",
       "Name: bin, Length: 12937, dtype: float64"
      ]
     },
     "execution_count": 23,
     "metadata": {},
     "output_type": "execute_result"
    }
   ],
   "execution_count": 23
  },
  {
   "metadata": {},
   "cell_type": "code",
   "outputs": [],
   "execution_count": null,
   "source": "",
   "id": "b4949cf037a04c52"
  }
 ],
 "metadata": {
  "kernelspec": {
   "display_name": "Python 3",
   "language": "python",
   "name": "python3"
  },
  "language_info": {
   "codemirror_mode": {
    "name": "ipython",
    "version": 2
   },
   "file_extension": ".py",
   "mimetype": "text/x-python",
   "name": "python",
   "nbconvert_exporter": "python",
   "pygments_lexer": "ipython2",
   "version": "2.7.6"
  }
 },
 "nbformat": 4,
 "nbformat_minor": 5
}
