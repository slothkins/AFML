{
 "cells": [
  {
   "metadata": {
    "ExecuteTime": {
     "end_time": "2025-02-28T20:09:01.555005Z",
     "start_time": "2025-02-28T20:09:00.175028Z"
    }
   },
   "cell_type": "code",
   "source": [
    "import pandas as pd\n",
    "\n",
    "dtype_mapping = {\n",
    "    'Symbol': 'category',  # Categorical for symbols (e.g., stock tickers)\n",
    "    'Open': 'float64',  # OHLC as float\n",
    "    'High': 'float64',\n",
    "    'Low': 'float64',\n",
    "    'Close': 'float64',\n",
    "    'Volume': 'int64'  # Volume typically as integer\n",
    "}\n",
    "\n",
    "\n",
    "# Load the 1-minute OHLC data and set the first row as column names\n",
    "data = pd.read_csv('./tick_data/barchart.com/concatenated_barchart_data3.csv', header=0, dtype=dtype_mapping\n",
    ")\n",
    "# make sure no commas for thousands etc\n"
   ],
   "id": "2329de4f0824cc27",
   "outputs": [],
   "execution_count": 2
  },
  {
   "metadata": {
    "ExecuteTime": {
     "end_time": "2025-02-28T20:09:01.607580Z",
     "start_time": "2025-02-28T20:09:01.563302Z"
    }
   },
   "cell_type": "code",
   "source": "data.info()",
   "id": "e690757a5badf5d4",
   "outputs": [
    {
     "name": "stdout",
     "output_type": "stream",
     "text": [
      "<class 'pandas.core.frame.DataFrame'>\n",
      "RangeIndex: 707945 entries, 0 to 707944\n",
      "Data columns (total 7 columns):\n",
      " #   Column  Non-Null Count   Dtype   \n",
      "---  ------  --------------   -----   \n",
      " 0   Time    707945 non-null  object  \n",
      " 1   Symbol  707945 non-null  category\n",
      " 2   Open    707945 non-null  float64 \n",
      " 3   High    707945 non-null  float64 \n",
      " 4   Low     707945 non-null  float64 \n",
      " 5   Close   707945 non-null  float64 \n",
      " 6   Volume  707945 non-null  int64   \n",
      "dtypes: category(1), float64(4), int64(1), object(1)\n",
      "memory usage: 33.1+ MB\n"
     ]
    }
   ],
   "execution_count": 3
  },
  {
   "metadata": {
    "ExecuteTime": {
     "end_time": "2025-02-28T20:09:05.489528Z",
     "start_time": "2025-02-28T20:09:05.487031Z"
    }
   },
   "cell_type": "code",
   "source": "",
   "id": "3daa228e67fa1654",
   "outputs": [],
   "execution_count": null
  },
  {
   "metadata": {
    "ExecuteTime": {
     "end_time": "2025-02-28T20:09:08.373724Z",
     "start_time": "2025-02-28T20:09:08.360186Z"
    }
   },
   "cell_type": "code",
   "source": "data.head()\n",
   "id": "6f18b518fa2a1372",
   "outputs": [
    {
     "data": {
      "text/plain": [
       "                  Time Symbol     Open     High      Low    Close  Volume\n",
       "0  01/01/2024 23:00:00  ESH24  4818.00  4819.50  4815.75  4818.75    1577\n",
       "1  01/01/2024 23:01:00  ESH24  4818.75  4819.75  4818.00  4819.75     783\n",
       "2  01/01/2024 23:02:00  ESH24  4819.75  4820.75  4819.25  4819.50     531\n",
       "3  01/01/2024 23:03:00  ESH24  4819.50  4820.00  4819.25  4820.00     119\n",
       "4  01/01/2024 23:04:00  ESH24  4819.75  4819.75  4818.50  4818.75     190"
      ],
      "text/html": [
       "<div>\n",
       "<style scoped>\n",
       "    .dataframe tbody tr th:only-of-type {\n",
       "        vertical-align: middle;\n",
       "    }\n",
       "\n",
       "    .dataframe tbody tr th {\n",
       "        vertical-align: top;\n",
       "    }\n",
       "\n",
       "    .dataframe thead th {\n",
       "        text-align: right;\n",
       "    }\n",
       "</style>\n",
       "<table border=\"1\" class=\"dataframe\">\n",
       "  <thead>\n",
       "    <tr style=\"text-align: right;\">\n",
       "      <th></th>\n",
       "      <th>Time</th>\n",
       "      <th>Symbol</th>\n",
       "      <th>Open</th>\n",
       "      <th>High</th>\n",
       "      <th>Low</th>\n",
       "      <th>Close</th>\n",
       "      <th>Volume</th>\n",
       "    </tr>\n",
       "  </thead>\n",
       "  <tbody>\n",
       "    <tr>\n",
       "      <th>0</th>\n",
       "      <td>01/01/2024 23:00:00</td>\n",
       "      <td>ESH24</td>\n",
       "      <td>4818.00</td>\n",
       "      <td>4819.50</td>\n",
       "      <td>4815.75</td>\n",
       "      <td>4818.75</td>\n",
       "      <td>1577</td>\n",
       "    </tr>\n",
       "    <tr>\n",
       "      <th>1</th>\n",
       "      <td>01/01/2024 23:01:00</td>\n",
       "      <td>ESH24</td>\n",
       "      <td>4818.75</td>\n",
       "      <td>4819.75</td>\n",
       "      <td>4818.00</td>\n",
       "      <td>4819.75</td>\n",
       "      <td>783</td>\n",
       "    </tr>\n",
       "    <tr>\n",
       "      <th>2</th>\n",
       "      <td>01/01/2024 23:02:00</td>\n",
       "      <td>ESH24</td>\n",
       "      <td>4819.75</td>\n",
       "      <td>4820.75</td>\n",
       "      <td>4819.25</td>\n",
       "      <td>4819.50</td>\n",
       "      <td>531</td>\n",
       "    </tr>\n",
       "    <tr>\n",
       "      <th>3</th>\n",
       "      <td>01/01/2024 23:03:00</td>\n",
       "      <td>ESH24</td>\n",
       "      <td>4819.50</td>\n",
       "      <td>4820.00</td>\n",
       "      <td>4819.25</td>\n",
       "      <td>4820.00</td>\n",
       "      <td>119</td>\n",
       "    </tr>\n",
       "    <tr>\n",
       "      <th>4</th>\n",
       "      <td>01/01/2024 23:04:00</td>\n",
       "      <td>ESH24</td>\n",
       "      <td>4819.75</td>\n",
       "      <td>4819.75</td>\n",
       "      <td>4818.50</td>\n",
       "      <td>4818.75</td>\n",
       "      <td>190</td>\n",
       "    </tr>\n",
       "  </tbody>\n",
       "</table>\n",
       "</div>"
      ]
     },
     "execution_count": 4,
     "metadata": {},
     "output_type": "execute_result"
    }
   ],
   "execution_count": 4
  },
  {
   "metadata": {},
   "cell_type": "code",
   "outputs": [],
   "execution_count": null,
   "source": [
    "volume_bars = []\n",
    "VOLUME_THRESHOLD = 50000\n",
    "# Initialize variables for aggregation\n",
    "current_open = None\n",
    "current_high = -float('inf')\n",
    "current_low = float('inf')\n",
    "current_close = None\n",
    "current_volume = 0\n",
    "current_symbol = None\n",
    "current_time = None\n",
    "\n",
    "# Iterate through rows to build volume bars\n",
    "for index, row in data.iterrows():\n",
    "    if current_open is None:\n",
    "        current_open = row['Open']\n",
    "        current_symbol = row['Symbol']\n",
    "        current_time = row['Time']  # Capture the current time\n",
    "    current_high = max(current_high, row['High'])\n",
    "    current_low = min(current_low, row['Low'])\n",
    "    current_close = row['Close']\n",
    "    current_volume += row['Volume']\n",
    "\n",
    "    if current_volume >= VOLUME_THRESHOLD:\n",
    "        volume_bars.append({\n",
    "            'Symbol': current_symbol,\n",
    "            'Open': current_open,\n",
    "            'High': current_high,\n",
    "            'Low': current_low,\n",
    "            'Close': current_close,\n",
    "            'Volume': current_volume,\n",
    "            'Time': current_time  # Add time to the volume bar\n",
    "        })\n",
    "        current_open = None\n",
    "        current_high = -float('inf')\n",
    "        current_low = float('inf')\n",
    "        current_close = None\n",
    "        current_volume = 0\n",
    "        current_symbol = None\n",
    "        current_time = None\n",
    "\n",
    "volume_bars_df = pd.DataFrame(volume_bars)"
   ],
   "id": "634f9841bf22c488"
  },
  {
   "metadata": {},
   "cell_type": "code",
   "outputs": [],
   "execution_count": null,
   "source": [
    "volume_bars_df.info()\n",
    "\n"
   ],
   "id": "72f6cacf922f65a4"
  },
  {
   "metadata": {
    "ExecuteTime": {
     "end_time": "2025-02-28T18:39:59.583115Z",
     "start_time": "2025-02-28T18:39:59.309069Z"
    }
   },
   "cell_type": "code",
   "source": [
    "volume_bars_df['Time'] = pd.to_datetime(volume_bars_df['Time'])\n",
    "volume_bars_df.to_csv('tick_data/bars/volume_bars_barchart.csv', index=False)\n"
   ],
   "id": "6a29e296657302a2",
   "outputs": [
    {
     "ename": "NameError",
     "evalue": "name 'pd' is not defined",
     "output_type": "error",
     "traceback": [
      "\u001B[0;31m---------------------------------------------------------------------------\u001B[0m",
      "\u001B[0;31mNameError\u001B[0m                                 Traceback (most recent call last)",
      "Cell \u001B[0;32mIn[1], line 1\u001B[0m\n\u001B[0;32m----> 1\u001B[0m volume_bars_df[\u001B[38;5;124m'\u001B[39m\u001B[38;5;124mTime\u001B[39m\u001B[38;5;124m'\u001B[39m] \u001B[38;5;241m=\u001B[39m \u001B[43mpd\u001B[49m\u001B[38;5;241m.\u001B[39mto_datetime(volume_bars_df[\u001B[38;5;124m'\u001B[39m\u001B[38;5;124mTime\u001B[39m\u001B[38;5;124m'\u001B[39m])\n\u001B[1;32m      2\u001B[0m volume_bars_df\u001B[38;5;241m.\u001B[39mto_csv(\u001B[38;5;124m'\u001B[39m\u001B[38;5;124mtick_data/bars/volume_bars_barchart.csv\u001B[39m\u001B[38;5;124m'\u001B[39m, index\u001B[38;5;241m=\u001B[39m\u001B[38;5;28;01mFalse\u001B[39;00m)\n",
      "\u001B[0;31mNameError\u001B[0m: name 'pd' is not defined"
     ]
    }
   ],
   "execution_count": 1
  },
  {
   "metadata": {
    "ExecuteTime": {
     "end_time": "2025-02-28T20:10:08.591510Z",
     "start_time": "2025-02-28T20:09:26.924364Z"
    }
   },
   "cell_type": "code",
   "source": [
    "dollar_bars = []\n",
    "DOLLAR_THRESHOLD = 1000000  # Example threshold for dollar bars\n",
    "# Initialize variables for aggregation\n",
    "current_open = None\n",
    "current_high = -float('inf')\n",
    "current_low = float('inf')\n",
    "current_close = None\n",
    "current_dollar_volume = 0\n",
    "current_symbol = None\n",
    "current_time = None\n",
    "\n",
    "# Iterate through rows to build dollar bars\n",
    "for index, row in data.iterrows():\n",
    "    if current_open is None:\n",
    "        current_open = row['Open']\n",
    "        current_symbol = row['Symbol']\n",
    "        current_time = row['Time']  # Capture the current time\n",
    "    current_high = max(current_high, row['High'])\n",
    "    current_low = min(current_low, row['Low'])\n",
    "    current_close = row['Close']\n",
    "    current_dollar_volume += row['Close'] * row['Volume']\n",
    "\n",
    "    if current_dollar_volume >= DOLLAR_THRESHOLD:\n",
    "        dollar_bars.append({\n",
    "            'Symbol': current_symbol,\n",
    "            'Open': current_open,\n",
    "            'High': current_high,\n",
    "            'Low': current_low,\n",
    "            'Close': current_close,\n",
    "            'DollarVolume': current_dollar_volume,\n",
    "            'Time': current_time  # Add time to the dollar bar\n",
    "        })\n",
    "        current_open = None\n",
    "        current_high = -float('inf')\n",
    "        current_low = float('inf')\n",
    "        current_close = None\n",
    "        current_dollar_volume = 0\n",
    "        current_symbol = None\n",
    "        current_time = None\n",
    "\n",
    "dollar_bars_df = pd.DataFrame(dollar_bars)\n",
    "dollar_bars_df['Time'] = pd.to_datetime(dollar_bars_df['Time'])\n",
    "dollar_bars_df.to_csv('tick_data/bars/dollar_bars_barchart.csv', index=False)"
   ],
   "id": "dbd3a4098a560d43",
   "outputs": [],
   "execution_count": 5
  },
  {
   "metadata": {},
   "cell_type": "code",
   "outputs": [],
   "execution_count": null,
   "source": "",
   "id": "57b0490ec038e5b1"
  }
 ],
 "metadata": {
  "kernelspec": {
   "display_name": "Python 3",
   "language": "python",
   "name": "python3"
  },
  "language_info": {
   "codemirror_mode": {
    "name": "ipython",
    "version": 2
   },
   "file_extension": ".py",
   "mimetype": "text/x-python",
   "name": "python",
   "nbconvert_exporter": "python",
   "pygments_lexer": "ipython2",
   "version": "2.7.6"
  }
 },
 "nbformat": 4,
 "nbformat_minor": 5
}
