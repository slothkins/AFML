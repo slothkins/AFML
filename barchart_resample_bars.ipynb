{
 "cells": [
  {
   "metadata": {
    "ExecuteTime": {
     "end_time": "2025-03-04T09:49:01.155187Z",
     "start_time": "2025-03-04T09:48:59.398720Z"
    }
   },
   "cell_type": "code",
   "source": [
    "import pandas as pd\n",
    "\n",
    "dtype_mapping = {\n",
    "    'Symbol': 'category',  # Categorical for symbols (e.g., stock tickers)\n",
    "    'Open': 'float64',  # OHLC as float\n",
    "    'High': 'float64',\n",
    "    'Low': 'float64',\n",
    "    'Close': 'float64',\n",
    "    'Volume': 'int64'  # Volume typically as integer\n",
    "}\n",
    "filename_end=\"2019_2024\"\n",
    "\n",
    "# Load the 1-minute OHLC data and set the first row as column names\n",
    "data = pd.read_csv(f'./tick_data/barchart.com/concatenated_barchart_{filename_end}.csv', header=0, dtype=dtype_mapping\n",
    ")\n",
    "# make sure no commas for thousands etc\n",
    "data['Date']=pd.to_datetime(data['Date'])"
   ],
   "id": "2329de4f0824cc27",
   "outputs": [],
   "execution_count": 9
  },
  {
   "metadata": {
    "ExecuteTime": {
     "end_time": "2025-03-04T09:49:01.166990Z",
     "start_time": "2025-03-04T09:49:01.162223Z"
    }
   },
   "cell_type": "code",
   "source": "data.info()",
   "id": "e690757a5badf5d4",
   "outputs": [
    {
     "name": "stdout",
     "output_type": "stream",
     "text": [
      "<class 'pandas.core.frame.DataFrame'>\n",
      "RangeIndex: 2116299 entries, 0 to 2116298\n",
      "Data columns (total 7 columns):\n",
      " #   Column  Dtype         \n",
      "---  ------  -----         \n",
      " 0   Date    datetime64[ns]\n",
      " 1   Symbol  category      \n",
      " 2   Open    float64       \n",
      " 3   High    float64       \n",
      " 4   Low     float64       \n",
      " 5   Close   float64       \n",
      " 6   Volume  int64         \n",
      "dtypes: category(1), datetime64[ns](1), float64(4), int64(1)\n",
      "memory usage: 98.9 MB\n"
     ]
    }
   ],
   "execution_count": 10
  },
  {
   "metadata": {
    "ExecuteTime": {
     "end_time": "2025-03-04T09:49:01.219309Z",
     "start_time": "2025-03-04T09:49:01.214109Z"
    }
   },
   "cell_type": "code",
   "source": "data.head()\n",
   "id": "6f18b518fa2a1372",
   "outputs": [
    {
     "data": {
      "text/plain": [
       "                 Date Symbol     Open     High      Low    Close  Volume\n",
       "0 2018-12-31 06:00:00  ESH19  2503.75  2504.25  2503.75  2504.25      71\n",
       "1 2018-12-31 06:01:00  ESH19  2504.25  2504.25  2504.25  2504.25      18\n",
       "2 2018-12-31 06:02:00  ESH19  2504.25  2504.25  2504.00  2504.25       6\n",
       "3 2018-12-31 06:03:00  ESH19  2504.25  2504.50  2504.25  2504.25      81\n",
       "4 2018-12-31 06:04:00  ESH19  2504.00  2504.25  2504.00  2504.00      47"
      ],
      "text/html": [
       "<div>\n",
       "<style scoped>\n",
       "    .dataframe tbody tr th:only-of-type {\n",
       "        vertical-align: middle;\n",
       "    }\n",
       "\n",
       "    .dataframe tbody tr th {\n",
       "        vertical-align: top;\n",
       "    }\n",
       "\n",
       "    .dataframe thead th {\n",
       "        text-align: right;\n",
       "    }\n",
       "</style>\n",
       "<table border=\"1\" class=\"dataframe\">\n",
       "  <thead>\n",
       "    <tr style=\"text-align: right;\">\n",
       "      <th></th>\n",
       "      <th>Date</th>\n",
       "      <th>Symbol</th>\n",
       "      <th>Open</th>\n",
       "      <th>High</th>\n",
       "      <th>Low</th>\n",
       "      <th>Close</th>\n",
       "      <th>Volume</th>\n",
       "    </tr>\n",
       "  </thead>\n",
       "  <tbody>\n",
       "    <tr>\n",
       "      <th>0</th>\n",
       "      <td>2018-12-31 06:00:00</td>\n",
       "      <td>ESH19</td>\n",
       "      <td>2503.75</td>\n",
       "      <td>2504.25</td>\n",
       "      <td>2503.75</td>\n",
       "      <td>2504.25</td>\n",
       "      <td>71</td>\n",
       "    </tr>\n",
       "    <tr>\n",
       "      <th>1</th>\n",
       "      <td>2018-12-31 06:01:00</td>\n",
       "      <td>ESH19</td>\n",
       "      <td>2504.25</td>\n",
       "      <td>2504.25</td>\n",
       "      <td>2504.25</td>\n",
       "      <td>2504.25</td>\n",
       "      <td>18</td>\n",
       "    </tr>\n",
       "    <tr>\n",
       "      <th>2</th>\n",
       "      <td>2018-12-31 06:02:00</td>\n",
       "      <td>ESH19</td>\n",
       "      <td>2504.25</td>\n",
       "      <td>2504.25</td>\n",
       "      <td>2504.00</td>\n",
       "      <td>2504.25</td>\n",
       "      <td>6</td>\n",
       "    </tr>\n",
       "    <tr>\n",
       "      <th>3</th>\n",
       "      <td>2018-12-31 06:03:00</td>\n",
       "      <td>ESH19</td>\n",
       "      <td>2504.25</td>\n",
       "      <td>2504.50</td>\n",
       "      <td>2504.25</td>\n",
       "      <td>2504.25</td>\n",
       "      <td>81</td>\n",
       "    </tr>\n",
       "    <tr>\n",
       "      <th>4</th>\n",
       "      <td>2018-12-31 06:04:00</td>\n",
       "      <td>ESH19</td>\n",
       "      <td>2504.00</td>\n",
       "      <td>2504.25</td>\n",
       "      <td>2504.00</td>\n",
       "      <td>2504.00</td>\n",
       "      <td>47</td>\n",
       "    </tr>\n",
       "  </tbody>\n",
       "</table>\n",
       "</div>"
      ]
     },
     "execution_count": 11,
     "metadata": {},
     "output_type": "execute_result"
    }
   ],
   "execution_count": 11
  },
  {
   "metadata": {
    "ExecuteTime": {
     "end_time": "2025-03-04T09:50:08.162494Z",
     "start_time": "2025-03-04T09:49:01.283048Z"
    }
   },
   "cell_type": "code",
   "source": [
    "volume_bars = []\n",
    "VOLUME_THRESHOLD = 10000\n",
    "# Initialize variables for aggregation\n",
    "current_open = None\n",
    "current_high = -float('inf')\n",
    "current_low = float('inf')\n",
    "current_close = None\n",
    "current_volume = 0\n",
    "current_symbol = None\n",
    "current_time = None\n",
    "\n",
    "# Iterate through rows to build volume bars\n",
    "for index, row in data.iterrows():\n",
    "    if current_open is None:\n",
    "        current_open = row['Open']\n",
    "        current_symbol = row['Symbol']\n",
    "        current_time = row['Date']  # Capture the current time\n",
    "    current_high = max(current_high, row['High'])\n",
    "    current_low = min(current_low, row['Low'])\n",
    "    current_close = row['Close']\n",
    "    current_volume += row['Volume']\n",
    "\n",
    "    if current_volume >= VOLUME_THRESHOLD:\n",
    "        volume_bars.append({\n",
    "            'Symbol': current_symbol,\n",
    "            'Open': current_open,\n",
    "            'High': current_high,\n",
    "            'Low': current_low,\n",
    "            'Close': current_close,\n",
    "            'Volume': current_volume,\n",
    "            'Date': current_time  # Add time to the volume bar\n",
    "        })\n",
    "        current_open = None\n",
    "        current_high = -float('inf')\n",
    "        current_low = float('inf')\n",
    "        current_close = None\n",
    "        current_volume = 0\n",
    "        current_symbol = None\n",
    "        current_time = None\n",
    "\n",
    "volume_bars_df = pd.DataFrame(volume_bars)"
   ],
   "id": "634f9841bf22c488",
   "outputs": [],
   "execution_count": 12
  },
  {
   "metadata": {
    "ExecuteTime": {
     "end_time": "2025-03-04T09:50:08.198572Z",
     "start_time": "2025-03-04T09:50:08.189627Z"
    }
   },
   "cell_type": "code",
   "source": [
    "volume_bars_df.info()\n",
    "\n"
   ],
   "id": "72f6cacf922f65a4",
   "outputs": [
    {
     "name": "stdout",
     "output_type": "stream",
     "text": [
      "<class 'pandas.core.frame.DataFrame'>\n",
      "RangeIndex: 191078 entries, 0 to 191077\n",
      "Data columns (total 7 columns):\n",
      " #   Column  Non-Null Count   Dtype         \n",
      "---  ------  --------------   -----         \n",
      " 0   Symbol  191078 non-null  object        \n",
      " 1   Open    191078 non-null  float64       \n",
      " 2   High    191078 non-null  float64       \n",
      " 3   Low     191078 non-null  float64       \n",
      " 4   Close   191078 non-null  float64       \n",
      " 5   Volume  191078 non-null  int64         \n",
      " 6   Date    191078 non-null  datetime64[ns]\n",
      "dtypes: datetime64[ns](1), float64(4), int64(1), object(1)\n",
      "memory usage: 10.2+ MB\n"
     ]
    }
   ],
   "execution_count": 13
  },
  {
   "metadata": {
    "ExecuteTime": {
     "end_time": "2025-03-04T09:50:08.978042Z",
     "start_time": "2025-03-04T09:50:08.276159Z"
    }
   },
   "cell_type": "code",
   "source": [
    "volume_bars_df['Date'] = pd.to_datetime(volume_bars_df['Date'])\n",
    "volume_bars_df.to_csv(f'tick_data/bars/volume_bars_barchart_{filename_end}.csv', index=False)\n"
   ],
   "id": "6a29e296657302a2",
   "outputs": [],
   "execution_count": 14
  },
  {
   "metadata": {
    "ExecuteTime": {
     "end_time": "2025-03-04T09:51:32.833894Z",
     "start_time": "2025-03-04T09:50:08.987428Z"
    }
   },
   "cell_type": "code",
   "source": [
    "dollar_bars = []\n",
    "DOLLAR_THRESHOLD = 1000000  # Example threshold for dollar bars\n",
    "# Initialize variables for aggregation\n",
    "current_open = None\n",
    "current_high = -float('inf')\n",
    "current_low = float('inf')\n",
    "current_close = None\n",
    "current_dollar_volume = 0\n",
    "current_symbol = None\n",
    "current_time = None\n",
    "\n",
    "# Iterate through rows to build dollar bars\n",
    "for index, row in data.iterrows():\n",
    "    if current_open is None:\n",
    "        current_open = row['Open']\n",
    "        current_symbol = row['Symbol']\n",
    "        current_time = row['Date']  # Capture the current time\n",
    "    current_high = max(current_high, row['High'])\n",
    "    current_low = min(current_low, row['Low'])\n",
    "    current_close = row['Close']\n",
    "    current_dollar_volume += row['Close'] * row['Volume']\n",
    "\n",
    "    if current_dollar_volume >= DOLLAR_THRESHOLD:\n",
    "        dollar_bars.append({\n",
    "            'Symbol': current_symbol,\n",
    "            'Open': current_open,\n",
    "            'High': current_high,\n",
    "            'Low': current_low,\n",
    "            'Close': current_close,\n",
    "            'DollarVolume': current_dollar_volume,\n",
    "            'Date': current_time  # Add time to the dollar bar\n",
    "        })\n",
    "        current_open = None\n",
    "        current_high = -float('inf')\n",
    "        current_low = float('inf')\n",
    "        current_close = None\n",
    "        current_dollar_volume = 0\n",
    "        current_symbol = None\n",
    "        current_time = None\n",
    "\n",
    "dollar_bars_df = pd.DataFrame(dollar_bars)\n",
    "dollar_bars_df['Date'] = pd.to_datetime(dollar_bars_df['Date'])\n",
    "dollar_bars_df.to_csv(f'tick_data/bars/dollar_bars_barchart_{filename_end}.csv', index=False)"
   ],
   "id": "dbd3a4098a560d43",
   "outputs": [],
   "execution_count": 15
  },
  {
   "metadata": {
    "ExecuteTime": {
     "end_time": "2025-03-04T09:51:32.897691Z",
     "start_time": "2025-03-04T09:51:32.850901Z"
    }
   },
   "cell_type": "code",
   "source": "dollar_bars_df.info()",
   "id": "57b0490ec038e5b1",
   "outputs": [
    {
     "name": "stdout",
     "output_type": "stream",
     "text": [
      "<class 'pandas.core.frame.DataFrame'>\n",
      "RangeIndex: 1390197 entries, 0 to 1390196\n",
      "Data columns (total 7 columns):\n",
      " #   Column        Non-Null Count    Dtype         \n",
      "---  ------        --------------    -----         \n",
      " 0   Symbol        1390197 non-null  object        \n",
      " 1   Open          1390197 non-null  float64       \n",
      " 2   High          1390197 non-null  float64       \n",
      " 3   Low           1390197 non-null  float64       \n",
      " 4   Close         1390197 non-null  float64       \n",
      " 5   DollarVolume  1390197 non-null  float64       \n",
      " 6   Date          1390197 non-null  datetime64[ns]\n",
      "dtypes: datetime64[ns](1), float64(5), object(1)\n",
      "memory usage: 74.2+ MB\n"
     ]
    }
   ],
   "execution_count": 16
  },
  {
   "metadata": {
    "ExecuteTime": {
     "end_time": "2025-03-04T09:51:33.014024Z",
     "start_time": "2025-03-04T09:51:33.012328Z"
    }
   },
   "cell_type": "code",
   "source": "",
   "id": "156cf11135a39fb7",
   "outputs": [],
   "execution_count": null
  }
 ],
 "metadata": {
  "kernelspec": {
   "display_name": "Python 3",
   "language": "python",
   "name": "python3"
  },
  "language_info": {
   "codemirror_mode": {
    "name": "ipython",
    "version": 2
   },
   "file_extension": ".py",
   "mimetype": "text/x-python",
   "name": "python",
   "nbconvert_exporter": "python",
   "pygments_lexer": "ipython2",
   "version": "2.7.6"
  }
 },
 "nbformat": 4,
 "nbformat_minor": 5
}
