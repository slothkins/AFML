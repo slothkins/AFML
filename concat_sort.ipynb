{
 "cells": [
  {
   "cell_type": "code",
   "id": "initial_id",
   "metadata": {
    "collapsed": true,
    "ExecuteTime": {
     "end_time": "2025-02-04T12:52:37.168422Z",
     "start_time": "2025-02-04T12:52:32.786812Z"
    }
   },
   "source": [
    "import pandas as pd\n",
    "\n",
    "data = pd.read_csv('concatenated_data.csv')\n"
   ],
   "outputs": [],
   "execution_count": 1
  },
  {
   "metadata": {
    "ExecuteTime": {
     "end_time": "2025-02-04T12:52:42.122051Z",
     "start_time": "2025-02-04T12:52:37.173965Z"
    }
   },
   "cell_type": "code",
   "source": "data.sort_values(by='time', ascending=True, inplace=True)",
   "id": "c7ba2cfe9558e24e",
   "outputs": [],
   "execution_count": 2
  },
  {
   "metadata": {
    "ExecuteTime": {
     "end_time": "2025-02-04T12:52:51.802915Z",
     "start_time": "2025-02-04T12:52:42.247248Z"
    }
   },
   "cell_type": "code",
   "source": "data.to_csv('tick_data/concat_sorted.csv', index=False)",
   "id": "ceb84b3c11272269",
   "outputs": [],
   "execution_count": 3
  },
  {
   "metadata": {
    "ExecuteTime": {
     "end_time": "2025-02-04T12:52:56.712735Z",
     "start_time": "2025-02-04T12:52:51.810160Z"
    }
   },
   "cell_type": "code",
   "source": "data.to_hdf('tick_data/concat_sorted.h5', key='concat_sorted', mode='w')",
   "id": "a6d74eba7c157781",
   "outputs": [],
   "execution_count": 4
  }
 ],
 "metadata": {
  "kernelspec": {
   "display_name": "Python 3",
   "language": "python",
   "name": "python3"
  },
  "language_info": {
   "codemirror_mode": {
    "name": "ipython",
    "version": 2
   },
   "file_extension": ".py",
   "mimetype": "text/x-python",
   "name": "python",
   "nbconvert_exporter": "python",
   "pygments_lexer": "ipython2",
   "version": "2.7.6"
  }
 },
 "nbformat": 4,
 "nbformat_minor": 5
}
