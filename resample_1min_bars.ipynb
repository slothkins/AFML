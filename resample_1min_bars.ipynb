{
 "cells": [
  {
   "metadata": {},
   "cell_type": "code",
   "outputs": [],
   "execution_count": null,
   "source": [
    "import pandas as pd\n",
    "\n",
    "dtype_mapping = {\n",
    "    'Symbol': 'category',  # Categorical for symbols (e.g., stock tickers)\n",
    "    'Open': 'float64',  # OHLC as float\n",
    "    'High': 'float64',\n",
    "    'Low': 'float64',\n",
    "    'Close': 'float64',\n",
    "    'Volume': 'int64'  # Volume typically as integer\n",
    "}\n",
    "\n",
    "\n",
    "# Load the 1-minute OHLC data and set the first row as column names\n",
    "data = pd.read_csv('/Users/nicolasatkins/PycharmProjects/AFML/tick_data/barchart.com/concatenated_barchart_data2.csv', header=0,dtype=dtype_mapping,\n",
    ")"
   ],
   "id": "2329de4f0824cc27"
  },
  {
   "metadata": {},
   "cell_type": "code",
   "outputs": [],
   "execution_count": null,
   "source": "data.info()",
   "id": "ca5c6ea5fa3f12a5"
  },
  {
   "metadata": {},
   "cell_type": "code",
   "outputs": [],
   "execution_count": null,
   "source": "\n",
   "id": "e9f193dee56c33a3"
  },
  {
   "metadata": {},
   "cell_type": "code",
   "outputs": [],
   "execution_count": null,
   "source": [
    "volume_bars = []\n",
    "VOLUME_THRESHOLD = 50000\n",
    "# Initialize variables for aggregation\n",
    "current_open = None\n",
    "current_high = -float('inf')\n",
    "current_low = float('inf')\n",
    "current_close = None\n",
    "current_volume = 0\n",
    "current_symbol = None\n",
    "current_time = None\n",
    "\n",
    "# Iterate through rows to build volume bars\n",
    "for index, row in data.iterrows():\n",
    "    if current_open is None:\n",
    "        current_open = row['Open']\n",
    "        current_symbol = row['Symbol']\n",
    "        current_time = row['Time']  # Capture the current time\n",
    "    current_high = max(current_high, row['High'])\n",
    "    current_low = min(current_low, row['Low'])\n",
    "    current_close = row['Close']\n",
    "    current_volume += row['Volume']\n",
    "\n",
    "    if current_volume >= VOLUME_THRESHOLD:\n",
    "        volume_bars.append({\n",
    "            'Symbol': current_symbol,\n",
    "            'Open': current_open,\n",
    "            'High': current_high,\n",
    "            'Low': current_low,\n",
    "            'Close': current_close,\n",
    "            'Volume': current_volume,\n",
    "            'Time': current_time  # Add time to the volume bar\n",
    "        })\n",
    "        current_open = None\n",
    "        current_high = -float('inf')\n",
    "        current_low = float('inf')\n",
    "        current_close = None\n",
    "        current_volume = 0\n",
    "        current_symbol = None\n",
    "        current_time = None\n",
    "\n",
    "volume_bars_df = pd.DataFrame(volume_bars)"
   ],
   "id": "7edaba7f2629c2ef"
  },
  {
   "metadata": {
    "ExecuteTime": {
     "end_time": "2025-02-25T20:58:21.599925Z",
     "start_time": "2025-02-25T20:58:21.589243Z"
    }
   },
   "cell_type": "code",
   "source": [
    "volume_bars_df.info()\n",
    "\n"
   ],
   "id": "af8a13e39688bee2",
   "outputs": [
    {
     "name": "stdout",
     "output_type": "stream",
     "text": [
      "<class 'pandas.core.frame.DataFrame'>\n",
      "Index: 14244 entries, 02 January 2023 to 31 December 2024\n",
      "Data columns (total 6 columns):\n",
      " #   Column  Non-Null Count  Dtype  \n",
      "---  ------  --------------  -----  \n",
      " 0   Symbol  14244 non-null  object \n",
      " 1   Open    14244 non-null  float64\n",
      " 2   High    14244 non-null  float64\n",
      " 3   Low     14244 non-null  float64\n",
      " 4   Close   14244 non-null  float64\n",
      " 5   Volume  14244 non-null  int64  \n",
      "dtypes: float64(4), int64(1), object(1)\n",
      "memory usage: 1.3+ MB\n"
     ]
    }
   ],
   "execution_count": 22
  },
  {
   "metadata": {
    "ExecuteTime": {
     "end_time": "2025-02-25T20:58:48.812664Z",
     "start_time": "2025-02-25T20:58:48.804591Z"
    }
   },
   "cell_type": "code",
   "source": "volume_bars_df.head()",
   "id": "65cb228173b09c30",
   "outputs": [
    {
     "data": {
      "text/plain": [
       "                Symbol     Open     High      Low    Close  Volume\n",
       "Time                                                              \n",
       "02 January 2023  ESH23  3895.00  3900.00  3849.50  3849.75   50304\n",
       "03 January 2023  ESH23  3849.50  3867.75  3842.75  3864.00   50044\n",
       "03 January 2023  ESH23  3864.00  3888.50  3864.00  3882.75   50000\n",
       "03 January 2023  ESH23  3882.75  3905.75  3882.50  3903.00   50498\n",
       "03 January 2023  ESH23  3903.00  3906.75  3872.25  3877.75   50126"
      ],
      "text/html": [
       "<div>\n",
       "<style scoped>\n",
       "    .dataframe tbody tr th:only-of-type {\n",
       "        vertical-align: middle;\n",
       "    }\n",
       "\n",
       "    .dataframe tbody tr th {\n",
       "        vertical-align: top;\n",
       "    }\n",
       "\n",
       "    .dataframe thead th {\n",
       "        text-align: right;\n",
       "    }\n",
       "</style>\n",
       "<table border=\"1\" class=\"dataframe\">\n",
       "  <thead>\n",
       "    <tr style=\"text-align: right;\">\n",
       "      <th></th>\n",
       "      <th>Symbol</th>\n",
       "      <th>Open</th>\n",
       "      <th>High</th>\n",
       "      <th>Low</th>\n",
       "      <th>Close</th>\n",
       "      <th>Volume</th>\n",
       "    </tr>\n",
       "    <tr>\n",
       "      <th>Time</th>\n",
       "      <th></th>\n",
       "      <th></th>\n",
       "      <th></th>\n",
       "      <th></th>\n",
       "      <th></th>\n",
       "      <th></th>\n",
       "    </tr>\n",
       "  </thead>\n",
       "  <tbody>\n",
       "    <tr>\n",
       "      <th>02 January 2023</th>\n",
       "      <td>ESH23</td>\n",
       "      <td>3895.00</td>\n",
       "      <td>3900.00</td>\n",
       "      <td>3849.50</td>\n",
       "      <td>3849.75</td>\n",
       "      <td>50304</td>\n",
       "    </tr>\n",
       "    <tr>\n",
       "      <th>03 January 2023</th>\n",
       "      <td>ESH23</td>\n",
       "      <td>3849.50</td>\n",
       "      <td>3867.75</td>\n",
       "      <td>3842.75</td>\n",
       "      <td>3864.00</td>\n",
       "      <td>50044</td>\n",
       "    </tr>\n",
       "    <tr>\n",
       "      <th>03 January 2023</th>\n",
       "      <td>ESH23</td>\n",
       "      <td>3864.00</td>\n",
       "      <td>3888.50</td>\n",
       "      <td>3864.00</td>\n",
       "      <td>3882.75</td>\n",
       "      <td>50000</td>\n",
       "    </tr>\n",
       "    <tr>\n",
       "      <th>03 January 2023</th>\n",
       "      <td>ESH23</td>\n",
       "      <td>3882.75</td>\n",
       "      <td>3905.75</td>\n",
       "      <td>3882.50</td>\n",
       "      <td>3903.00</td>\n",
       "      <td>50498</td>\n",
       "    </tr>\n",
       "    <tr>\n",
       "      <th>03 January 2023</th>\n",
       "      <td>ESH23</td>\n",
       "      <td>3903.00</td>\n",
       "      <td>3906.75</td>\n",
       "      <td>3872.25</td>\n",
       "      <td>3877.75</td>\n",
       "      <td>50126</td>\n",
       "    </tr>\n",
       "  </tbody>\n",
       "</table>\n",
       "</div>"
      ]
     },
     "execution_count": 23,
     "metadata": {},
     "output_type": "execute_result"
    }
   ],
   "execution_count": 23
  },
  {
   "metadata": {
    "ExecuteTime": {
     "end_time": "2025-02-25T21:00:43.282864Z",
     "start_time": "2025-02-25T21:00:43.218706Z"
    }
   },
   "cell_type": "code",
   "source": "volume_bars_df.to_csv('tick_data/bars/volume_bars_barchart.csv', index=False)",
   "id": "916c164439f665b0",
   "outputs": [],
   "execution_count": 26
  },
  {
   "metadata": {},
   "cell_type": "code",
   "outputs": [],
   "execution_count": null,
   "source": "",
   "id": "8566abc5b6649fe0"
  }
 ],
 "metadata": {
  "kernelspec": {
   "display_name": "Python 3",
   "language": "python",
   "name": "python3"
  },
  "language_info": {
   "codemirror_mode": {
    "name": "ipython",
    "version": 2
   },
   "file_extension": ".py",
   "mimetype": "text/x-python",
   "name": "python",
   "nbconvert_exporter": "python",
   "pygments_lexer": "ipython2",
   "version": "2.7.6"
  }
 },
 "nbformat": 4,
 "nbformat_minor": 5
}
