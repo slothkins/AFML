{
 "cells": [
  {
   "metadata": {
    "ExecuteTime": {
     "end_time": "2025-02-26T16:24:42.991723Z",
     "start_time": "2025-02-26T16:24:42.174065Z"
    }
   },
   "cell_type": "code",
   "source": [
    "import pandas as pd\n",
    "\n",
    "dtype_mapping = {\n",
    "    'Symbol': 'category',  # Categorical for symbols (e.g., stock tickers)\n",
    "    'Open': 'float64',  # OHLC as float\n",
    "    'High': 'float64',\n",
    "    'Low': 'float64',\n",
    "    'Close': 'float64',\n",
    "    'Volume': 'int64'  # Volume typically as integer\n",
    "}\n",
    "\n",
    "\n",
    "# Load the 1-minute OHLC data and set the first row as column names\n",
    "data = pd.read_csv('./tick_data/barchart.com/concatenated_barchart_data3.csv', header=0, dtype=dtype_mapping\n",
    ")\n",
    "# make sure no commas for thousands etc\n"
   ],
   "id": "2329de4f0824cc27",
   "outputs": [],
   "execution_count": 10
  },
  {
   "metadata": {
    "ExecuteTime": {
     "end_time": "2025-02-26T16:24:44.931770Z",
     "start_time": "2025-02-26T16:24:44.887849Z"
    }
   },
   "cell_type": "code",
   "source": "data.info()",
   "id": "e690757a5badf5d4",
   "outputs": [
    {
     "name": "stdout",
     "output_type": "stream",
     "text": [
      "<class 'pandas.core.frame.DataFrame'>\n",
      "RangeIndex: 707945 entries, 0 to 707944\n",
      "Data columns (total 7 columns):\n",
      " #   Column  Non-Null Count   Dtype   \n",
      "---  ------  --------------   -----   \n",
      " 0   Time    707945 non-null  object  \n",
      " 1   Symbol  707945 non-null  category\n",
      " 2   Open    707945 non-null  float64 \n",
      " 3   High    707945 non-null  float64 \n",
      " 4   Low     707945 non-null  float64 \n",
      " 5   Close   707945 non-null  float64 \n",
      " 6   Volume  707945 non-null  int64   \n",
      "dtypes: category(1), float64(4), int64(1), object(1)\n",
      "memory usage: 33.1+ MB\n"
     ]
    }
   ],
   "execution_count": 11
  },
  {
   "metadata": {},
   "cell_type": "code",
   "outputs": [],
   "execution_count": null,
   "source": "",
   "id": "3daa228e67fa1654"
  },
  {
   "metadata": {},
   "cell_type": "code",
   "outputs": [],
   "execution_count": null,
   "source": "data.head()\n",
   "id": "6f18b518fa2a1372"
  },
  {
   "metadata": {},
   "cell_type": "code",
   "outputs": [],
   "execution_count": null,
   "source": [
    "volume_bars = []\n",
    "VOLUME_THRESHOLD = 50000\n",
    "# Initialize variables for aggregation\n",
    "current_open = None\n",
    "current_high = -float('inf')\n",
    "current_low = float('inf')\n",
    "current_close = None\n",
    "current_volume = 0\n",
    "current_symbol = None\n",
    "current_time = None\n",
    "\n",
    "# Iterate through rows to build volume bars\n",
    "for index, row in data.iterrows():\n",
    "    if current_open is None:\n",
    "        current_open = row['Open']\n",
    "        current_symbol = row['Symbol']\n",
    "        current_time = row['Time']  # Capture the current time\n",
    "    current_high = max(current_high, row['High'])\n",
    "    current_low = min(current_low, row['Low'])\n",
    "    current_close = row['Close']\n",
    "    current_volume += row['Volume']\n",
    "\n",
    "    if current_volume >= VOLUME_THRESHOLD:\n",
    "        volume_bars.append({\n",
    "            'Symbol': current_symbol,\n",
    "            'Open': current_open,\n",
    "            'High': current_high,\n",
    "            'Low': current_low,\n",
    "            'Close': current_close,\n",
    "            'Volume': current_volume,\n",
    "            'Time': current_time  # Add time to the volume bar\n",
    "        })\n",
    "        current_open = None\n",
    "        current_high = -float('inf')\n",
    "        current_low = float('inf')\n",
    "        current_close = None\n",
    "        current_volume = 0\n",
    "        current_symbol = None\n",
    "        current_time = None\n",
    "\n",
    "volume_bars_df = pd.DataFrame(volume_bars)"
   ],
   "id": "634f9841bf22c488"
  },
  {
   "metadata": {},
   "cell_type": "code",
   "outputs": [],
   "execution_count": null,
   "source": [
    "volume_bars_df.info()\n",
    "\n"
   ],
   "id": "72f6cacf922f65a4"
  },
  {
   "metadata": {},
   "cell_type": "code",
   "outputs": [],
   "execution_count": null,
   "source": [
    "volume_bars_df['Time'] = pd.to_datetime(volume_bars_df['Time'])\n",
    "volume_bars_df.to_csv('tick_data/bars/volume_bars_barchart.csv', index=False)\n"
   ],
   "id": "6a29e296657302a2"
  }
 ],
 "metadata": {
  "kernelspec": {
   "display_name": "Python 3",
   "language": "python",
   "name": "python3"
  },
  "language_info": {
   "codemirror_mode": {
    "name": "ipython",
    "version": 2
   },
   "file_extension": ".py",
   "mimetype": "text/x-python",
   "name": "python",
   "nbconvert_exporter": "python",
   "pygments_lexer": "ipython2",
   "version": "2.7.6"
  }
 },
 "nbformat": 4,
 "nbformat_minor": 5
}
