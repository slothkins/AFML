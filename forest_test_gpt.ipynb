{
 "cells": [
  {
   "cell_type": "code",
   "id": "initial_id",
   "metadata": {
    "collapsed": true,
    "ExecuteTime": {
     "end_time": "2025-03-10T15:00:27.301034Z",
     "start_time": "2025-03-10T15:00:27.168601Z"
    }
   },
   "source": [
    "import numpy as np\n",
    "import pandas as pd\n",
    "from numba.core.cgutils import false_bit\n",
    "from sklearn.ensemble import RandomForestClassifier\n",
    "from sklearn.model_selection import train_test_split\n",
    "from sklearn.metrics import accuracy_score\n",
    "\n",
    "# Sample dataset (replace with your own)\n",
    "np.random.seed(42)\n",
    "X = pd.DataFrame(np.random.rand(1000, 1), columns=[f'feat_{i}' for i in range(5)])\n",
    "# y_base = np.random.choice([0, 1], size=1000)  # Primary label (e.g., buy/sell)\n",
    "y_base = (abs(X.iloc[:,0])*100).astype(int) % 10\n",
    "y_base = y_base == 3\n",
    "confidence_threshold = 0.6  # Define a threshold for meta-labeling\n",
    "\n",
    "# Split data\n",
    "X_train, X_test, y_train_base, y_test_base = train_test_split(X, y_base, test_size=0.3)\n",
    "\n",
    "# Step 1: Train the primary model\n",
    "base_model = RandomForestClassifier(n_estimators=100, random_state=42)\n",
    "base_model.fit(X_train, y_train_base)\n",
    "\n",
    "# Get probabilities from base model\n",
    "y_pred_proba = base_model.predict_proba(X_test)[:, 1]  # Probability of class 1\n",
    "y_pred_base = (y_pred_proba > 0.5).astype(int)  # Convert to binary predictions\n",
    "\n",
    "# Step 2: Create meta-labels\n",
    "# Meta-label is 1 if the base model was confident & correct, else 0\n",
    "y_meta = np.where((y_pred_proba > confidence_threshold) & (y_pred_base == y_test_base), 1, 0)\n",
    "\n",
    "# Filter dataset for confident predictions\n",
    "X_meta = X_test[y_pred_proba > confidence_threshold]\n",
    "y_meta = y_meta[y_pred_proba > confidence_threshold]\n"
   ],
   "outputs": [
    {
     "ename": "ValueError",
     "evalue": "Shape of passed values is (1000, 1), indices imply (1000, 5)",
     "output_type": "error",
     "traceback": [
      "\u001B[0;31m---------------------------------------------------------------------------\u001B[0m",
      "\u001B[0;31mValueError\u001B[0m                                Traceback (most recent call last)",
      "Cell \u001B[0;32mIn[11], line 10\u001B[0m\n\u001B[1;32m      8\u001B[0m \u001B[38;5;66;03m# Sample dataset (replace with your own)\u001B[39;00m\n\u001B[1;32m      9\u001B[0m np\u001B[38;5;241m.\u001B[39mrandom\u001B[38;5;241m.\u001B[39mseed(\u001B[38;5;241m42\u001B[39m)\n\u001B[0;32m---> 10\u001B[0m X \u001B[38;5;241m=\u001B[39m pd\u001B[38;5;241m.\u001B[39mDataFrame(np\u001B[38;5;241m.\u001B[39mrandom\u001B[38;5;241m.\u001B[39mrand(\u001B[38;5;241m1000\u001B[39m, \u001B[38;5;241m1\u001B[39m), columns\u001B[38;5;241m=\u001B[39m[\u001B[38;5;124mf\u001B[39m\u001B[38;5;124m'\u001B[39m\u001B[38;5;124mfeat_\u001B[39m\u001B[38;5;132;01m{\u001B[39;00mi\u001B[38;5;132;01m}\u001B[39;00m\u001B[38;5;124m'\u001B[39m \u001B[38;5;28;01mfor\u001B[39;00m i \u001B[38;5;129;01min\u001B[39;00m \u001B[38;5;28mrange\u001B[39m(\u001B[38;5;241m5\u001B[39m)])\n\u001B[1;32m     11\u001B[0m \u001B[38;5;66;03m# y_base = np.random.choice([0, 1], size=1000)  # Primary label (e.g., buy/sell)\u001B[39;00m\n\u001B[1;32m     12\u001B[0m y_base \u001B[38;5;241m=\u001B[39m (\u001B[38;5;28mabs\u001B[39m(X\u001B[38;5;241m.\u001B[39miloc[:,\u001B[38;5;241m0\u001B[39m])\u001B[38;5;241m*\u001B[39m\u001B[38;5;241m100\u001B[39m)\u001B[38;5;241m.\u001B[39mastype(\u001B[38;5;28mint\u001B[39m) \u001B[38;5;241m%\u001B[39m \u001B[38;5;241m10\u001B[39m\n",
      "File \u001B[0;32m~/anaconda3/envs/AFML/lib/python3.12/site-packages/pandas/core/frame.py:827\u001B[0m, in \u001B[0;36mDataFrame.__init__\u001B[0;34m(self, data, index, columns, dtype, copy)\u001B[0m\n\u001B[1;32m    816\u001B[0m         mgr \u001B[38;5;241m=\u001B[39m dict_to_mgr(\n\u001B[1;32m    817\u001B[0m             \u001B[38;5;66;03m# error: Item \"ndarray\" of \"Union[ndarray, Series, Index]\" has no\u001B[39;00m\n\u001B[1;32m    818\u001B[0m             \u001B[38;5;66;03m# attribute \"name\"\u001B[39;00m\n\u001B[0;32m   (...)\u001B[0m\n\u001B[1;32m    824\u001B[0m             copy\u001B[38;5;241m=\u001B[39m_copy,\n\u001B[1;32m    825\u001B[0m         )\n\u001B[1;32m    826\u001B[0m     \u001B[38;5;28;01melse\u001B[39;00m:\n\u001B[0;32m--> 827\u001B[0m         mgr \u001B[38;5;241m=\u001B[39m ndarray_to_mgr(\n\u001B[1;32m    828\u001B[0m             data,\n\u001B[1;32m    829\u001B[0m             index,\n\u001B[1;32m    830\u001B[0m             columns,\n\u001B[1;32m    831\u001B[0m             dtype\u001B[38;5;241m=\u001B[39mdtype,\n\u001B[1;32m    832\u001B[0m             copy\u001B[38;5;241m=\u001B[39mcopy,\n\u001B[1;32m    833\u001B[0m             typ\u001B[38;5;241m=\u001B[39mmanager,\n\u001B[1;32m    834\u001B[0m         )\n\u001B[1;32m    836\u001B[0m \u001B[38;5;66;03m# For data is list-like, or Iterable (will consume into list)\u001B[39;00m\n\u001B[1;32m    837\u001B[0m \u001B[38;5;28;01melif\u001B[39;00m is_list_like(data):\n",
      "File \u001B[0;32m~/anaconda3/envs/AFML/lib/python3.12/site-packages/pandas/core/internals/construction.py:336\u001B[0m, in \u001B[0;36mndarray_to_mgr\u001B[0;34m(values, index, columns, dtype, copy, typ)\u001B[0m\n\u001B[1;32m    331\u001B[0m \u001B[38;5;66;03m# _prep_ndarraylike ensures that values.ndim == 2 at this point\u001B[39;00m\n\u001B[1;32m    332\u001B[0m index, columns \u001B[38;5;241m=\u001B[39m _get_axes(\n\u001B[1;32m    333\u001B[0m     values\u001B[38;5;241m.\u001B[39mshape[\u001B[38;5;241m0\u001B[39m], values\u001B[38;5;241m.\u001B[39mshape[\u001B[38;5;241m1\u001B[39m], index\u001B[38;5;241m=\u001B[39mindex, columns\u001B[38;5;241m=\u001B[39mcolumns\n\u001B[1;32m    334\u001B[0m )\n\u001B[0;32m--> 336\u001B[0m _check_values_indices_shape_match(values, index, columns)\n\u001B[1;32m    338\u001B[0m \u001B[38;5;28;01mif\u001B[39;00m typ \u001B[38;5;241m==\u001B[39m \u001B[38;5;124m\"\u001B[39m\u001B[38;5;124marray\u001B[39m\u001B[38;5;124m\"\u001B[39m:\n\u001B[1;32m    339\u001B[0m     \u001B[38;5;28;01mif\u001B[39;00m \u001B[38;5;28missubclass\u001B[39m(values\u001B[38;5;241m.\u001B[39mdtype\u001B[38;5;241m.\u001B[39mtype, \u001B[38;5;28mstr\u001B[39m):\n",
      "File \u001B[0;32m~/anaconda3/envs/AFML/lib/python3.12/site-packages/pandas/core/internals/construction.py:420\u001B[0m, in \u001B[0;36m_check_values_indices_shape_match\u001B[0;34m(values, index, columns)\u001B[0m\n\u001B[1;32m    418\u001B[0m passed \u001B[38;5;241m=\u001B[39m values\u001B[38;5;241m.\u001B[39mshape\n\u001B[1;32m    419\u001B[0m implied \u001B[38;5;241m=\u001B[39m (\u001B[38;5;28mlen\u001B[39m(index), \u001B[38;5;28mlen\u001B[39m(columns))\n\u001B[0;32m--> 420\u001B[0m \u001B[38;5;28;01mraise\u001B[39;00m \u001B[38;5;167;01mValueError\u001B[39;00m(\u001B[38;5;124mf\u001B[39m\u001B[38;5;124m\"\u001B[39m\u001B[38;5;124mShape of passed values is \u001B[39m\u001B[38;5;132;01m{\u001B[39;00mpassed\u001B[38;5;132;01m}\u001B[39;00m\u001B[38;5;124m, indices imply \u001B[39m\u001B[38;5;132;01m{\u001B[39;00mimplied\u001B[38;5;132;01m}\u001B[39;00m\u001B[38;5;124m\"\u001B[39m)\n",
      "\u001B[0;31mValueError\u001B[0m: Shape of passed values is (1000, 1), indices imply (1000, 5)"
     ]
    }
   ],
   "execution_count": 11
  },
  {
   "metadata": {
    "ExecuteTime": {
     "end_time": "2025-03-10T13:29:47.967174Z",
     "start_time": "2025-03-10T13:29:47.880947Z"
    }
   },
   "cell_type": "code",
   "source": [
    "# Train the meta-model (Random Forest)\n",
    "meta_model = RandomForestClassifier(n_estimators=100, random_state=42)\n",
    "meta_model.fit(X_meta, y_meta)\n",
    "\n",
    "# Predict on new data\n",
    "y_meta_pred = meta_model.predict(X_meta)\n",
    "\n",
    "# Evaluate meta model\n",
    "meta_accuracy = accuracy_score(y_meta, y_meta_pred)\n",
    "print(f'Meta Model Accuracy: {meta_accuracy:.4f}')\n"
   ],
   "id": "10615be45627b9ec",
   "outputs": [
    {
     "name": "stdout",
     "output_type": "stream",
     "text": [
      "Meta Model Accuracy: 1.0000\n"
     ]
    }
   ],
   "execution_count": 3
  },
  {
   "metadata": {
    "ExecuteTime": {
     "end_time": "2025-03-10T13:29:48.501819Z",
     "start_time": "2025-03-10T13:29:48.500224Z"
    }
   },
   "cell_type": "code",
   "source": "",
   "id": "df4c29352fb2fa91",
   "outputs": [],
   "execution_count": null
  },
  {
   "metadata": {},
   "cell_type": "code",
   "outputs": [],
   "execution_count": null,
   "source": "",
   "id": "e80a1c69c66545f1"
  }
 ],
 "metadata": {
  "kernelspec": {
   "display_name": "Python 3",
   "language": "python",
   "name": "python3"
  },
  "language_info": {
   "codemirror_mode": {
    "name": "ipython",
    "version": 2
   },
   "file_extension": ".py",
   "mimetype": "text/x-python",
   "name": "python",
   "nbconvert_exporter": "python",
   "pygments_lexer": "ipython2",
   "version": "2.7.6"
  }
 },
 "nbformat": 4,
 "nbformat_minor": 5
}
