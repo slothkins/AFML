{
 "cells": [
  {
   "cell_type": "code",
   "id": "initial_id",
   "metadata": {
    "collapsed": true,
    "ExecuteTime": {
     "end_time": "2025-02-05T22:02:32.645122Z",
     "start_time": "2025-02-05T22:02:31.421011Z"
    }
   },
   "source": [
    "import pandas as pd\n",
    "import numpy as np\n",
    "import matplotlib.pyplot as plt\n",
    "import seaborn as sns\n",
    "import tables\n",
    "import mplfinance as mpf\n",
    "import my_afml_fncs as my_afml"
   ],
   "outputs": [],
   "execution_count": 2
  },
  {
   "metadata": {
    "ExecuteTime": {
     "end_time": "2025-02-05T22:02:32.666622Z",
     "start_time": "2025-02-05T22:02:32.651669Z"
    }
   },
   "cell_type": "code",
   "source": [
    "volume_bars_df = pd.read_hdf(\"tick_data/bars/volume_bars.h5\", key=\"volume_bars\")\n",
    "volume_bars_df.head()"
   ],
   "id": "d9b0d444032c924b",
   "outputs": [
    {
     "data": {
      "text/plain": [
       "                         time     open     high      low    close  volume\n",
       "0  2024-11-15 08:39:56.469400  5967.00  5968.00  5930.75  5937.00  100001\n",
       "1  2024-11-15 13:33:55.913324  5937.25  5953.25  5936.25  5944.25  100003\n",
       "2  2024-11-15 14:30:17.843538  5944.50  5947.75  5935.00  5936.75  100040\n",
       "3  2024-11-15 14:43:36.170628  5936.75  5941.75  5929.25  5930.00  100037\n",
       "4  2024-11-15 15:02:28.997004  5929.75  5940.50  5920.00  5920.25  100002"
      ],
      "text/html": [
       "<div>\n",
       "<style scoped>\n",
       "    .dataframe tbody tr th:only-of-type {\n",
       "        vertical-align: middle;\n",
       "    }\n",
       "\n",
       "    .dataframe tbody tr th {\n",
       "        vertical-align: top;\n",
       "    }\n",
       "\n",
       "    .dataframe thead th {\n",
       "        text-align: right;\n",
       "    }\n",
       "</style>\n",
       "<table border=\"1\" class=\"dataframe\">\n",
       "  <thead>\n",
       "    <tr style=\"text-align: right;\">\n",
       "      <th></th>\n",
       "      <th>time</th>\n",
       "      <th>open</th>\n",
       "      <th>high</th>\n",
       "      <th>low</th>\n",
       "      <th>close</th>\n",
       "      <th>volume</th>\n",
       "    </tr>\n",
       "  </thead>\n",
       "  <tbody>\n",
       "    <tr>\n",
       "      <th>0</th>\n",
       "      <td>2024-11-15 08:39:56.469400</td>\n",
       "      <td>5967.00</td>\n",
       "      <td>5968.00</td>\n",
       "      <td>5930.75</td>\n",
       "      <td>5937.00</td>\n",
       "      <td>100001</td>\n",
       "    </tr>\n",
       "    <tr>\n",
       "      <th>1</th>\n",
       "      <td>2024-11-15 13:33:55.913324</td>\n",
       "      <td>5937.25</td>\n",
       "      <td>5953.25</td>\n",
       "      <td>5936.25</td>\n",
       "      <td>5944.25</td>\n",
       "      <td>100003</td>\n",
       "    </tr>\n",
       "    <tr>\n",
       "      <th>2</th>\n",
       "      <td>2024-11-15 14:30:17.843538</td>\n",
       "      <td>5944.50</td>\n",
       "      <td>5947.75</td>\n",
       "      <td>5935.00</td>\n",
       "      <td>5936.75</td>\n",
       "      <td>100040</td>\n",
       "    </tr>\n",
       "    <tr>\n",
       "      <th>3</th>\n",
       "      <td>2024-11-15 14:43:36.170628</td>\n",
       "      <td>5936.75</td>\n",
       "      <td>5941.75</td>\n",
       "      <td>5929.25</td>\n",
       "      <td>5930.00</td>\n",
       "      <td>100037</td>\n",
       "    </tr>\n",
       "    <tr>\n",
       "      <th>4</th>\n",
       "      <td>2024-11-15 15:02:28.997004</td>\n",
       "      <td>5929.75</td>\n",
       "      <td>5940.50</td>\n",
       "      <td>5920.00</td>\n",
       "      <td>5920.25</td>\n",
       "      <td>100002</td>\n",
       "    </tr>\n",
       "  </tbody>\n",
       "</table>\n",
       "</div>"
      ]
     },
     "execution_count": 3,
     "metadata": {},
     "output_type": "execute_result"
    }
   ],
   "execution_count": 3
  },
  {
   "metadata": {
    "ExecuteTime": {
     "end_time": "2025-02-05T22:02:32.731589Z",
     "start_time": "2025-02-05T22:02:32.725691Z"
    }
   },
   "cell_type": "code",
   "source": [
    "volume_bars_df['time']=pd.to_datetime(volume_bars_df['time'])\n",
    "volume_bars_df.set_index('time',inplace=True)\n",
    "vol=my_afml.get_daily_volatility(volume_bars_df.close)"
   ],
   "id": "6e06e5adaa81480c",
   "outputs": [],
   "execution_count": 4
  },
  {
   "metadata": {
    "ExecuteTime": {
     "end_time": "2025-02-05T22:02:32.771349Z",
     "start_time": "2025-02-05T22:02:32.767360Z"
    }
   },
   "cell_type": "code",
   "source": [
    "vol2=my_afml.getDailyVol(volume_bars_df.close)\n",
    "vol2.mean()"
   ],
   "id": "7534182368804a1e",
   "outputs": [
    {
     "data": {
      "text/plain": [
       "0.0037081056391128505"
      ]
     },
     "execution_count": 5,
     "metadata": {},
     "output_type": "execute_result"
    }
   ],
   "execution_count": 5
  },
  {
   "metadata": {
    "ExecuteTime": {
     "end_time": "2025-02-05T22:02:32.865387Z",
     "start_time": "2025-02-05T22:02:32.862450Z"
    }
   },
   "cell_type": "code",
   "source": [
    "vol2.mean()\n",
    "vol.mean()"
   ],
   "id": "bda605f52f5e935e",
   "outputs": [
    {
     "data": {
      "text/plain": [
       "0.0037081056391128505"
      ]
     },
     "execution_count": 6,
     "metadata": {},
     "output_type": "execute_result"
    }
   ],
   "execution_count": 6
  },
  {
   "metadata": {
    "ExecuteTime": {
     "end_time": "2025-02-05T22:02:32.971362Z",
     "start_time": "2025-02-05T22:02:32.964170Z"
    }
   },
   "cell_type": "code",
   "source": "es_cusum_events=my_afml.getTEvents(volume_bars_df.close,vol2.mean())",
   "id": "9e12d9d207f17615",
   "outputs": [],
   "execution_count": 7
  },
  {
   "metadata": {
    "ExecuteTime": {
     "end_time": "2025-02-05T22:02:33.019572Z",
     "start_time": "2025-02-05T22:02:33.015902Z"
    }
   },
   "cell_type": "code",
   "source": [
    "\n",
    "t1=my_afml.getVb(volume_bars_df.close,es_cusum_events)\n",
    "t1"
   ],
   "id": "35e141b8ea6b0ef",
   "outputs": [
    {
     "data": {
      "text/plain": [
       "2024-11-15 13:33:55.913324   2024-11-18 06:58:08.108243\n",
       "2024-11-15 14:30:17.843538   2024-11-18 06:58:08.108243\n",
       "2024-11-15 14:43:36.170628   2024-11-18 06:58:08.108243\n",
       "2024-11-15 15:02:28.997004   2024-11-18 06:58:08.108243\n",
       "2024-11-15 15:16:29.237773   2024-11-18 06:58:08.108243\n",
       "                                        ...            \n",
       "2024-12-16 20:59:59.504389   2024-12-18 14:34:03.919800\n",
       "2024-12-17 14:38:13.296365   2024-12-18 19:08:29.806640\n",
       "2024-12-17 16:31:24.270556   2024-12-18 19:08:29.806640\n",
       "2024-12-17 20:45:34.771591   2024-12-18 21:03:19.567693\n",
       "2024-12-18 14:34:03.919800   2024-12-19 17:26:20.544849\n",
       "Name: time, Length: 257, dtype: datetime64[ns]"
      ]
     },
     "execution_count": 8,
     "metadata": {},
     "output_type": "execute_result"
    }
   ],
   "execution_count": 8
  },
  {
   "metadata": {
    "ExecuteTime": {
     "end_time": "2025-02-05T22:02:38.161575Z",
     "start_time": "2025-02-05T22:02:37.987948Z"
    }
   },
   "cell_type": "code",
   "source": [
    "ptsl=1\n",
    "trgt=vol2\n",
    "minRet=0.00003\n",
    "numThread=1\n",
    "trigger=my_afml.getEvents(volume_bars_df.close,es_cusum_events,ptsl,trgt,minRet,numThread,t1)\n",
    "print(trigger)\n",
    "print(trigger.shape)"
   ],
   "id": "7cc502f48fe2a1f3",
   "outputs": [
    {
     "name": "stdout",
     "output_type": "stream",
     "text": [
      "Running processJobs_\n",
      "                                                   t1      trgt\n",
      "2024-11-18 13:00:00.991865 2024-11-18 15:29:54.497644  0.001768\n",
      "2024-11-18 14:35:36.212295 2024-11-18 15:29:54.497644  0.001770\n",
      "2024-11-18 15:00:41.163755 2024-11-18 15:29:54.497644  0.001564\n",
      "2024-11-18 15:29:54.497644 2024-11-18 16:46:11.699835  0.001548\n",
      "2024-11-18 16:00:36.713567 2024-11-19 09:28:48.026253  0.001741\n",
      "...                                               ...       ...\n",
      "2024-12-18 19:08:29.806640 2024-12-18 20:33:00.914784  0.003980\n",
      "2024-12-18 20:33:00.914784 2024-12-18 21:03:19.567693  0.004736\n",
      "2024-12-18 21:03:19.567693 2024-12-19 14:32:08.428649  0.006430\n",
      "2024-12-19 14:32:08.428649                        NaT  0.006900\n",
      "2024-12-19 17:26:20.544849                        NaT  0.007644\n",
      "\n",
      "[244 rows x 2 columns]\n",
      "(244, 2)\n"
     ]
    }
   ],
   "execution_count": 9
  },
  {
   "metadata": {
    "ExecuteTime": {
     "end_time": "2025-02-05T22:03:21.336291Z",
     "start_time": "2025-02-05T22:03:21.326272Z"
    }
   },
   "cell_type": "code",
   "source": [
    "bins=my_afml.getBins(trigger,volume_bars_df.close)\n",
    "print(bins)\n",
    "print(bins.shape)"
   ],
   "id": "77f10338c32aa3b7",
   "outputs": [
    {
     "name": "stdout",
     "output_type": "stream",
     "text": [
      "                                 ret  bin\n",
      "2024-11-18 13:00:00.991865  0.001864  1.0\n",
      "2024-11-18 14:35:36.212295  0.002799  1.0\n",
      "2024-11-18 15:00:41.163755  0.002586  1.0\n",
      "2024-11-18 15:29:54.497644  0.002918  1.0\n",
      "2024-11-18 16:00:36.713567 -0.004942 -1.0\n",
      "...                              ...  ...\n",
      "2024-12-17 20:45:34.771591 -0.004295 -1.0\n",
      "2024-12-18 14:34:03.919800 -0.018100 -1.0\n",
      "2024-12-18 19:08:29.806640 -0.014516 -1.0\n",
      "2024-12-18 20:33:00.914784 -0.013720 -1.0\n",
      "2024-12-18 21:03:19.567693  0.012119  1.0\n",
      "\n",
      "[242 rows x 2 columns]\n"
     ]
    }
   ],
   "execution_count": 10
  },
  {
   "metadata": {},
   "cell_type": "code",
   "outputs": [],
   "execution_count": null,
   "source": "",
   "id": "c591d2ca4f073065"
  }
 ],
 "metadata": {
  "kernelspec": {
   "display_name": "Python 3",
   "language": "python",
   "name": "python3"
  },
  "language_info": {
   "codemirror_mode": {
    "name": "ipython",
    "version": 2
   },
   "file_extension": ".py",
   "mimetype": "text/x-python",
   "name": "python",
   "nbconvert_exporter": "python",
   "pygments_lexer": "ipython2",
   "version": "2.7.6"
  }
 },
 "nbformat": 4,
 "nbformat_minor": 5
}
