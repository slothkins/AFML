{
 "cells": [
  {
   "cell_type": "code",
   "id": "initial_id",
   "metadata": {
    "collapsed": true,
    "ExecuteTime": {
     "end_time": "2025-02-04T22:11:10.808948Z",
     "start_time": "2025-02-04T22:11:09.505840Z"
    }
   },
   "source": [
    "import pandas as pd\n",
    "import numpy as np\n",
    "import matplotlib.pyplot as plt\n",
    "import seaborn as sns\n",
    "import tables\n",
    "import mplfinance as mpf\n",
    "import my_afml_fncs as my_afml"
   ],
   "outputs": [],
   "execution_count": 1
  },
  {
   "metadata": {
    "ExecuteTime": {
     "end_time": "2025-02-04T22:11:10.830666Z",
     "start_time": "2025-02-04T22:11:10.815100Z"
    }
   },
   "cell_type": "code",
   "source": [
    "volume_bars_df = pd.read_hdf(\"tick_data/bars/volume_bars.h5\", key=\"volume_bars\")\n",
    "volume_bars_df.head()"
   ],
   "id": "d9b0d444032c924b",
   "outputs": [
    {
     "data": {
      "text/plain": [
       "                         time     open     high      low    close  volume\n",
       "0  2024-11-15 08:39:56.469400  5967.00  5968.00  5930.75  5937.00  100001\n",
       "1  2024-11-15 13:33:55.913324  5937.25  5953.25  5936.25  5944.25  100003\n",
       "2  2024-11-15 14:30:17.843538  5944.50  5947.75  5935.00  5936.75  100040\n",
       "3  2024-11-15 14:43:36.170628  5936.75  5941.75  5929.25  5930.00  100037\n",
       "4  2024-11-15 15:02:28.997004  5929.75  5940.50  5920.00  5920.25  100002"
      ],
      "text/html": [
       "<div>\n",
       "<style scoped>\n",
       "    .dataframe tbody tr th:only-of-type {\n",
       "        vertical-align: middle;\n",
       "    }\n",
       "\n",
       "    .dataframe tbody tr th {\n",
       "        vertical-align: top;\n",
       "    }\n",
       "\n",
       "    .dataframe thead th {\n",
       "        text-align: right;\n",
       "    }\n",
       "</style>\n",
       "<table border=\"1\" class=\"dataframe\">\n",
       "  <thead>\n",
       "    <tr style=\"text-align: right;\">\n",
       "      <th></th>\n",
       "      <th>time</th>\n",
       "      <th>open</th>\n",
       "      <th>high</th>\n",
       "      <th>low</th>\n",
       "      <th>close</th>\n",
       "      <th>volume</th>\n",
       "    </tr>\n",
       "  </thead>\n",
       "  <tbody>\n",
       "    <tr>\n",
       "      <th>0</th>\n",
       "      <td>2024-11-15 08:39:56.469400</td>\n",
       "      <td>5967.00</td>\n",
       "      <td>5968.00</td>\n",
       "      <td>5930.75</td>\n",
       "      <td>5937.00</td>\n",
       "      <td>100001</td>\n",
       "    </tr>\n",
       "    <tr>\n",
       "      <th>1</th>\n",
       "      <td>2024-11-15 13:33:55.913324</td>\n",
       "      <td>5937.25</td>\n",
       "      <td>5953.25</td>\n",
       "      <td>5936.25</td>\n",
       "      <td>5944.25</td>\n",
       "      <td>100003</td>\n",
       "    </tr>\n",
       "    <tr>\n",
       "      <th>2</th>\n",
       "      <td>2024-11-15 14:30:17.843538</td>\n",
       "      <td>5944.50</td>\n",
       "      <td>5947.75</td>\n",
       "      <td>5935.00</td>\n",
       "      <td>5936.75</td>\n",
       "      <td>100040</td>\n",
       "    </tr>\n",
       "    <tr>\n",
       "      <th>3</th>\n",
       "      <td>2024-11-15 14:43:36.170628</td>\n",
       "      <td>5936.75</td>\n",
       "      <td>5941.75</td>\n",
       "      <td>5929.25</td>\n",
       "      <td>5930.00</td>\n",
       "      <td>100037</td>\n",
       "    </tr>\n",
       "    <tr>\n",
       "      <th>4</th>\n",
       "      <td>2024-11-15 15:02:28.997004</td>\n",
       "      <td>5929.75</td>\n",
       "      <td>5940.50</td>\n",
       "      <td>5920.00</td>\n",
       "      <td>5920.25</td>\n",
       "      <td>100002</td>\n",
       "    </tr>\n",
       "  </tbody>\n",
       "</table>\n",
       "</div>"
      ]
     },
     "execution_count": 2,
     "metadata": {},
     "output_type": "execute_result"
    }
   ],
   "execution_count": 2
  },
  {
   "metadata": {
    "ExecuteTime": {
     "end_time": "2025-02-04T22:11:10.911511Z",
     "start_time": "2025-02-04T22:11:10.905579Z"
    }
   },
   "cell_type": "code",
   "source": [
    "volume_bars_df['time']=pd.to_datetime(volume_bars_df['time'])\n",
    "volume_bars_df.set_index('time',inplace=True)\n",
    "vol=my_afml.get_daily_volatility(volume_bars_df.close)"
   ],
   "id": "6e06e5adaa81480c",
   "outputs": [],
   "execution_count": 3
  },
  {
   "metadata": {
    "ExecuteTime": {
     "end_time": "2025-02-04T22:11:10.959953Z",
     "start_time": "2025-02-04T22:11:10.957080Z"
    }
   },
   "cell_type": "code",
   "source": "vol.mean()",
   "id": "7534182368804a1e",
   "outputs": [
    {
     "data": {
      "text/plain": [
       "0.0037081056391128505"
      ]
     },
     "execution_count": 4,
     "metadata": {},
     "output_type": "execute_result"
    }
   ],
   "execution_count": 4
  },
  {
   "metadata": {
    "ExecuteTime": {
     "end_time": "2025-02-04T22:11:11.093345Z",
     "start_time": "2025-02-04T22:11:11.084476Z"
    }
   },
   "cell_type": "code",
   "source": "es_cusum_events=my_afml.getTEvents(volume_bars_df.close,vol.mean())",
   "id": "bda605f52f5e935e",
   "outputs": [],
   "execution_count": 5
  },
  {
   "metadata": {
    "ExecuteTime": {
     "end_time": "2025-02-04T22:11:11.115897Z",
     "start_time": "2025-02-04T22:11:11.113327Z"
    }
   },
   "cell_type": "code",
   "source": [
    "t1=volume_bars_df.close.index.searchsorted(es_cusum_events+pd.Timedelta(days=1))\n",
    "t1=t1[t1<volume_bars_df.close.shape[0]]\n",
    "t1=pd.Series(volume_bars_df.close.index[t1],index=es_cusum_events[:t1.shape[0]])"
   ],
   "id": "9e12d9d207f17615",
   "outputs": [],
   "execution_count": 6
  },
  {
   "metadata": {
    "ExecuteTime": {
     "end_time": "2025-02-04T22:14:43.676879Z",
     "start_time": "2025-02-04T22:11:13.509178Z"
    }
   },
   "cell_type": "code",
   "source": [
    "ptsl=1\n",
    "trgt=pd.Series(0.1,index=es_cusum_events)\n",
    "minRet=0.01\n",
    "numThread=10\n",
    "trigger=my_afml.getEvents(volume_bars_df.close,es_cusum_events,ptsl,trgt,minRet,numThread,t1)"
   ],
   "id": "35e141b8ea6b0ef",
   "outputs": [
    {
     "name": "stderr",
     "output_type": "stream",
     "text": [
      "2025-02-04 22:11:13.685461 100.0% applyPtSlOnT1 done after 0.0 minutes. Remaining 0.0 minutes.\n"
     ]
    }
   ],
   "execution_count": 7
  },
  {
   "metadata": {},
   "cell_type": "code",
   "outputs": [],
   "execution_count": null,
   "source": "",
   "id": "7cc502f48fe2a1f3"
  }
 ],
 "metadata": {
  "kernelspec": {
   "display_name": "Python 3",
   "language": "python",
   "name": "python3"
  },
  "language_info": {
   "codemirror_mode": {
    "name": "ipython",
    "version": 2
   },
   "file_extension": ".py",
   "mimetype": "text/x-python",
   "name": "python",
   "nbconvert_exporter": "python",
   "pygments_lexer": "ipython2",
   "version": "2.7.6"
  }
 },
 "nbformat": 4,
 "nbformat_minor": 5
}
