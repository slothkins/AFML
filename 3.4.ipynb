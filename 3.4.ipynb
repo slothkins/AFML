{
 "cells": [
  {
   "cell_type": "code",
   "id": "initial_id",
   "metadata": {
    "collapsed": true,
    "ExecuteTime": {
     "end_time": "2025-03-06T11:31:15.737434Z",
     "start_time": "2025-03-06T11:31:15.734702Z"
    }
   },
   "source": [
    "# import pandas as pd\n",
    "# import numpy as np\n",
    "import matplotlib.pyplot as plt\n",
    "# import seaborn as sns\n",
    "import pandas as pd\n",
    "import tables\n",
    "import mplfinance as mpf\n",
    "import my_afml_fncs as my_afml\n",
    "from barchart_resample_bars import volume_bars\n",
    "\n",
    "from create_bars import volume_threshold\n",
    "# from AFML_Ch2_barchart import volume_bars_df\n",
    "from my_afml_fncs import dropLabels, movingAverageCrossover\n",
    "from research import drop_label\n",
    "import seaborn as sns\n",
    "from matplotlib.patches import Rectangle\n",
    "\n",
    "from sklearn.ensemble import RandomForestClassifier\n",
    "from sklearn.model_selection import train_test_split\n",
    "from sklearn.metrics import accuracy_score, classification_report"
   ],
   "outputs": [],
   "execution_count": 32
  },
  {
   "metadata": {},
   "cell_type": "markdown",
   "source": "LOAD DATA",
   "id": "b2a1fa9ed5d45bbc"
  },
  {
   "metadata": {
    "ExecuteTime": {
     "end_time": "2025-03-06T11:31:16.775230Z",
     "start_time": "2025-03-06T11:31:15.779901Z"
    }
   },
   "cell_type": "code",
   "source": [
    "filename_end=\"2019_2024\"\n",
    "# volume_bars_df = pd.read_hdf(\"tick_data/bars/volume_bars_50000.h5\", key=\"volume_bars\")\n",
    "# volume_bars_df.head()\n",
    "# volume_bars_df.shape\n",
    "volume_bars_df=pd.read_csv(f'tick_data/bars/volume_bars_barchart_{filename_end}.csv')\n",
    "volume_bars_df['bar_number'] = range(len(volume_bars_df))\n",
    "dollar_bars_df=pd.read_csv(f'tick_data/bars/dollar_bars_barchart_{filename_end}.csv')\n",
    "dollar_bars_df['bar_number'] = range(len(dollar_bars_df))"
   ],
   "id": "7dd6fe7ff23ca167",
   "outputs": [],
   "execution_count": 33
  },
  {
   "metadata": {},
   "cell_type": "markdown",
   "source": "Convert to datetime and set it to index",
   "id": "3913d4b76aba183f"
  },
  {
   "metadata": {
    "ExecuteTime": {
     "end_time": "2025-03-06T11:31:17.036673Z",
     "start_time": "2025-03-06T11:31:16.798874Z"
    }
   },
   "cell_type": "code",
   "source": [
    "volume_bars_df['Date']=pd.to_datetime(volume_bars_df['Date'])\n",
    "volume_bars_df.set_index('Date',inplace=True)\n",
    "dollar_bars_df['Date']=pd.to_datetime(dollar_bars_df['Date'])\n",
    "dollar_bars_df.set_index('Date',inplace=True)\n",
    "\n",
    "dollar_bars_df.sort_index(inplace=True)\n",
    "volume_bars_df.sort_index(inplace=True)"
   ],
   "id": "b978e5bb4cd0920d",
   "outputs": [],
   "execution_count": 34
  },
  {
   "metadata": {},
   "cell_type": "markdown",
   "source": "Create an array of daily vols",
   "id": "bcf22d1a181c002e"
  },
  {
   "metadata": {
    "ExecuteTime": {
     "end_time": "2025-03-06T11:31:17.539596Z",
     "start_time": "2025-03-06T11:31:17.060561Z"
    }
   },
   "cell_type": "code",
   "source": [
    "vol=my_afml.getDailyVol(volume_bars_df.Close)\n",
    "# vol.mean()\n",
    "# vol.shape\n",
    "dollar_vol=my_afml.getDailyVol(dollar_bars_df.Close)"
   ],
   "id": "297775b916167bde",
   "outputs": [],
   "execution_count": 35
  },
  {
   "metadata": {},
   "cell_type": "markdown",
   "source": "Build a cusum filter as a possible feature. Used earlier in 3.1",
   "id": "41988c2388c5af7a"
  },
  {
   "metadata": {
    "ExecuteTime": {
     "end_time": "2025-03-06T11:31:17.564434Z",
     "start_time": "2025-03-06T11:31:17.562932Z"
    }
   },
   "cell_type": "code",
   "source": [
    "# # 3.1(a) apply CUSUM filet usings daily vols\n",
    "# es_cusum_events=my_afml.getTEvents(volume_bars_df.Close,vol.mean())\n",
    "# print('Volume bar CUSUM events:',es_cusum_events.shape)\n",
    "# dollar_es_cusum_events=my_afml.getTEvents(dollar_bars_df.Close,dollar_vol.mean())\n",
    "# print('Dollar bar CUSUM events:',dollar_es_cusum_events.shape)"
   ],
   "id": "19cc971b7f08ce1f",
   "outputs": [],
   "execution_count": 36
  },
  {
   "metadata": {},
   "cell_type": "markdown",
   "source": "Define moving average params",
   "id": "abeea366493fd7d7"
  },
  {
   "metadata": {
    "ExecuteTime": {
     "end_time": "2025-03-06T20:20:34.824316Z",
     "start_time": "2025-03-06T20:20:34.821464Z"
    }
   },
   "cell_type": "code",
   "source": [
    "# Start of 3.4\n",
    "# Define moving average windows\n",
    "short_window = 20  # e.g., 50 periods\n",
    "long_window = 50  # e.g., 200 periods"
   ],
   "id": "85b9492c3cf273d",
   "outputs": [],
   "execution_count": 67
  },
  {
   "metadata": {},
   "cell_type": "markdown",
   "source": "Create events array where the moving average switches from in to out for volume bars\n",
   "id": "de8e32f071432acd"
  },
  {
   "metadata": {
    "ExecuteTime": {
     "end_time": "2025-03-06T20:20:41.669593Z",
     "start_time": "2025-03-06T20:20:41.653581Z"
    }
   },
   "cell_type": "code",
   "source": [
    "# create events where the moving averages cross over\n",
    "volume_events = my_afml.movingAverageCrossover(volume_bars_df.Close, short_window, long_window)\n",
    "# events.head()\n",
    "volume_events = volume_events.dropna()\n",
    "# try this with a crossover signa change\n",
    "volume_events['signal_switch'] = (volume_events.signal.diff()/ 2)\n",
    "# drop rows with any NaN values\n",
    "volume_events = volume_events.dropna()\n",
    "# filter rows where signal_switch is not zero\n",
    "volume_events = volume_events[volume_events['signal_switch'] != 0]\n"
   ],
   "id": "8eca8b1dec4e867d",
   "outputs": [],
   "execution_count": 68
  },
  {
   "metadata": {},
   "cell_type": "markdown",
   "source": "Create events array where the moving average switches from in to out for dollar bars\n",
   "id": "2ecf0db8e45432d9"
  },
  {
   "metadata": {
    "ExecuteTime": {
     "end_time": "2025-03-06T20:21:09.707655Z",
     "start_time": "2025-03-06T20:21:09.604121Z"
    }
   },
   "cell_type": "code",
   "source": [
    "# create events where the moving averages cross over\n",
    "dollar_events = my_afml.movingAverageCrossover(dollar_bars_df.Close, short_window, long_window)\n",
    "# events.head()\n",
    "# try this with a crossover sign change\n",
    "dollar_events['signal_switch'] = dollar_events.signal.diff() / 2\n",
    "# drop rows with any NaN values\n",
    "dollar_events = dollar_events.dropna()\n",
    "# filter rows where signal_switch is not zero\n",
    "dollar_events = dollar_events[dollar_events['signal_switch'] != 0]\n",
    "dollar_events.head()"
   ],
   "id": "571a8796d1d5961a",
   "outputs": [
    {
     "data": {
      "text/plain": [
       "                      short_ma      long_ma  signal  signal_switch\n",
       "Date                                                              \n",
       "2018-12-31 08:04:00  2506.9750  2506.857143       1            1.0\n",
       "2018-12-31 08:47:00  2506.7250  2506.787879      -1           -1.0\n",
       "2018-12-31 12:01:00  2506.0375  2505.995000       1            1.0\n",
       "2018-12-31 13:29:00  2507.5750  2507.875000      -1           -1.0\n",
       "2018-12-31 14:35:00  2504.3250  2504.290000       1            1.0"
      ],
      "text/html": [
       "<div>\n",
       "<style scoped>\n",
       "    .dataframe tbody tr th:only-of-type {\n",
       "        vertical-align: middle;\n",
       "    }\n",
       "\n",
       "    .dataframe tbody tr th {\n",
       "        vertical-align: top;\n",
       "    }\n",
       "\n",
       "    .dataframe thead th {\n",
       "        text-align: right;\n",
       "    }\n",
       "</style>\n",
       "<table border=\"1\" class=\"dataframe\">\n",
       "  <thead>\n",
       "    <tr style=\"text-align: right;\">\n",
       "      <th></th>\n",
       "      <th>short_ma</th>\n",
       "      <th>long_ma</th>\n",
       "      <th>signal</th>\n",
       "      <th>signal_switch</th>\n",
       "    </tr>\n",
       "    <tr>\n",
       "      <th>Date</th>\n",
       "      <th></th>\n",
       "      <th></th>\n",
       "      <th></th>\n",
       "      <th></th>\n",
       "    </tr>\n",
       "  </thead>\n",
       "  <tbody>\n",
       "    <tr>\n",
       "      <th>2018-12-31 08:04:00</th>\n",
       "      <td>2506.9750</td>\n",
       "      <td>2506.857143</td>\n",
       "      <td>1</td>\n",
       "      <td>1.0</td>\n",
       "    </tr>\n",
       "    <tr>\n",
       "      <th>2018-12-31 08:47:00</th>\n",
       "      <td>2506.7250</td>\n",
       "      <td>2506.787879</td>\n",
       "      <td>-1</td>\n",
       "      <td>-1.0</td>\n",
       "    </tr>\n",
       "    <tr>\n",
       "      <th>2018-12-31 12:01:00</th>\n",
       "      <td>2506.0375</td>\n",
       "      <td>2505.995000</td>\n",
       "      <td>1</td>\n",
       "      <td>1.0</td>\n",
       "    </tr>\n",
       "    <tr>\n",
       "      <th>2018-12-31 13:29:00</th>\n",
       "      <td>2507.5750</td>\n",
       "      <td>2507.875000</td>\n",
       "      <td>-1</td>\n",
       "      <td>-1.0</td>\n",
       "    </tr>\n",
       "    <tr>\n",
       "      <th>2018-12-31 14:35:00</th>\n",
       "      <td>2504.3250</td>\n",
       "      <td>2504.290000</td>\n",
       "      <td>1</td>\n",
       "      <td>1.0</td>\n",
       "    </tr>\n",
       "  </tbody>\n",
       "</table>\n",
       "</div>"
      ]
     },
     "execution_count": 69,
     "metadata": {},
     "output_type": "execute_result"
    }
   ],
   "execution_count": 69
  },
  {
   "metadata": {},
   "cell_type": "markdown",
   "source": "Define vertical barriers",
   "id": "8c64ede6f2bbce1e"
  },
  {
   "metadata": {
    "ExecuteTime": {
     "end_time": "2025-03-06T20:21:12.904360Z",
     "start_time": "2025-03-06T20:21:12.896936Z"
    }
   },
   "cell_type": "code",
   "source": [
    "# and add vertical barrier 1 day from those events (as close to 1 day as possible?)\n",
    "volume_t1=my_afml.getVb(volume_bars_df.Close, volume_events.index)\n",
    "dollar_t1=my_afml.getVb(dollar_bars_df.Close,dollar_events.index)"
   ],
   "id": "94da5e50bcf2950d",
   "outputs": [],
   "execution_count": 70
  },
  {
   "metadata": {},
   "cell_type": "markdown",
   "source": "Create meta-labels: uses the expanded getEvents to return t1 which is the timestamp the barrier was first touched and trgt which is the target that was used to generate the horizontal barrier, the expanded version accetpts a side too (and also returns it)\n",
   "id": "73819420faefec18"
  },
  {
   "metadata": {
    "ExecuteTime": {
     "end_time": "2025-03-06T20:21:44.910832Z",
     "start_time": "2025-03-06T20:21:43.815356Z"
    }
   },
   "cell_type": "code",
   "source": [
    "# Now create the meta-labels using the primary model (which provides the side from the crossover point), the t1 vertical barrier which is as close to 1 day as possible from the crossover. We don't label anything as primary model as that was the simple crossover. Meta-labels are used for secondary model.\n",
    "# now set ptsl to be lopsided [1,2] which we can do because we now have a 'side' from the moving average crossover. Trigger has column called 'side'\n",
    "ptsl=[1,2]\n",
    "# target is set to be standard deviation\n",
    "trgt=vol.mean()*volume_bars_df.Close\n",
    "# trgt is variable but we can set a fixed minimum return\n",
    "minRet=0.00003\n",
    "numThread=24\n",
    "# get events will find time of first touch after each event\n",
    "volume_trigger_secondary_model=my_afml.getEvents(volume_bars_df.Close, volume_events.index, ptsl, trgt, minRet, numThread, volume_t1, volume_events.signal)\n"
   ],
   "id": "d890f05e5a2299b7",
   "outputs": [
    {
     "name": "stdout",
     "output_type": "stream",
     "text": [
      "Running processJobs\n"
     ]
    },
    {
     "name": "stderr",
     "output_type": "stream",
     "text": [
      "2025-03-06 20:21:44.858640 100.0% applyPtSlOnT1 done after 0.01 minutes. Remaining 0.0 minutes.\n"
     ]
    }
   ],
   "execution_count": 71
  },
  {
   "metadata": {
    "ExecuteTime": {
     "end_time": "2025-03-06T20:23:19.887991Z",
     "start_time": "2025-03-06T20:23:15.037680Z"
    }
   },
   "cell_type": "code",
   "source": [
    "#and for dollar bars\n",
    "ptsl=[1,2]\n",
    "# target is set to be standard deviation\n",
    "dollar_trgt=dollar_vol.mean()*dollar_bars_df.Close\n",
    "# trgt is variable but we can set a fixed minimum returnminRet=0.00003\n",
    "numThread=24\n",
    "# get events will find time of first touch after each event\n",
    "dollar_trigger_secondary_model=my_afml.getEvents(dollar_bars_df.Close, dollar_events.index, ptsl, dollar_trgt, minRet, numThread, dollar_t1, dollar_events.signal)"
   ],
   "id": "11e035e7d621598c",
   "outputs": [
    {
     "name": "stdout",
     "output_type": "stream",
     "text": [
      "Running processJobs\n"
     ]
    },
    {
     "name": "stderr",
     "output_type": "stream",
     "text": [
      "2025-03-06 20:23:19.754265 100.0% applyPtSlOnT1 done after 0.07 minutes. Remaining 0.0 minutes..\n"
     ]
    }
   ],
   "execution_count": 73
  },
  {
   "metadata": {
    "ExecuteTime": {
     "end_time": "2025-03-06T13:03:30.243890Z",
     "start_time": "2025-03-06T13:03:30.241446Z"
    }
   },
   "cell_type": "code",
   "source": "# volume_trigger_secondary_model.head()",
   "id": "af0d26657299ae30",
   "outputs": [],
   "execution_count": 53
  },
  {
   "metadata": {
    "ExecuteTime": {
     "end_time": "2025-03-06T13:04:18.229258Z",
     "start_time": "2025-03-06T13:04:18.227129Z"
    }
   },
   "cell_type": "code",
   "source": "# dollar_trigger_secondary_model.head()\n",
   "id": "6508e365bbbd4659",
   "outputs": [],
   "execution_count": 55
  },
  {
   "metadata": {},
   "cell_type": "markdown",
   "source": [
    "Generate the bins using the triggers\n",
    "The expanded get bins with a side returns 0 or 1 rather than -1, 0 or 1. So 1 is take the bet and 0 is pass (the side is already determined) and when the this secondary prediction is 1 we use the probability to size the bet!"
   ],
   "id": "71d0551b74404407"
  },
  {
   "metadata": {},
   "cell_type": "markdown",
   "source": "The getBins function adds labels to the events returned by getEvents and returns the realized return of the first touched barrier and bin which is either -1,0,+1 which is the sign of the return or 0,1 if we know the side.",
   "id": "268cb4ffb49adc26"
  },
  {
   "metadata": {
    "ExecuteTime": {
     "end_time": "2025-03-06T20:23:41.539629Z",
     "start_time": "2025-03-06T20:23:41.519715Z"
    }
   },
   "cell_type": "code",
   "source": [
    "# getBins will generate the meta-label as we provide a side now in trigger\n",
    "volume_bins_secondary_model=my_afml.getBins(volume_trigger_secondary_model, volume_bars_df.Close)\n",
    "dollar_bins_secondary_model=my_afml.getBins(dollar_trigger_secondary_model,dollar_bars_df.Close)"
   ],
   "id": "40ad0d2865b2fbd1",
   "outputs": [],
   "execution_count": 74
  },
  {
   "metadata": {
    "ExecuteTime": {
     "end_time": "2025-03-06T20:23:42.780305Z",
     "start_time": "2025-03-06T20:23:42.777874Z"
    }
   },
   "cell_type": "code",
   "source": "# volume_bins_secondary_model.head()",
   "id": "95e17f1ee2715490",
   "outputs": [],
   "execution_count": 75
  },
  {
   "metadata": {
    "ExecuteTime": {
     "end_time": "2025-03-06T20:23:43.691595Z",
     "start_time": "2025-03-06T20:23:43.689254Z"
    }
   },
   "cell_type": "code",
   "source": "# dollar_bins_secondary_model.head()",
   "id": "df0b0fb1fa9213e1",
   "outputs": [],
   "execution_count": 76
  },
  {
   "metadata": {
    "ExecuteTime": {
     "end_time": "2025-03-06T20:23:45.545785Z",
     "start_time": "2025-03-06T20:23:44.902358Z"
    }
   },
   "cell_type": "code",
   "source": [
    "# add the crossover data and std to volume_bars for the secondary model\n",
    "volume_bars_df[['short_ma', 'long_ma', 'signal']] = my_afml.movingAverageCrossover(volume_bars_df.Close, short_window, long_window)\n",
    "volume_bars_df['std']=my_afml.getDailyVol(volume_bars_df.Close)\n",
    "# volume_bars_df.head()\n",
    "dollar_bars_df[['short_ma', 'long_ma', 'signal']] = my_afml.movingAverageCrossover(dollar_bars_df.Close, short_window, long_window)\n",
    "dollar_bars_df['std']=my_afml.getDailyVol(dollar_bars_df.Close)\n",
    "# volume_bars_df.head()"
   ],
   "id": "dd7954e6c8ac486b",
   "outputs": [],
   "execution_count": 77
  },
  {
   "metadata": {
    "ExecuteTime": {
     "end_time": "2025-03-06T20:23:47.296778Z",
     "start_time": "2025-03-06T20:23:46.351196Z"
    }
   },
   "cell_type": "code",
   "source": [
    "# now fit same data using these labels\n",
    "X= volume_bars_df.loc[volume_bins_secondary_model.index, :]\n",
    "y=volume_bins_secondary_model['bin']\n",
    "\n",
    "# Prepare the data\n",
    "features = X\n",
    "features.reset_index(drop=True, inplace=True)\n",
    "features = features.drop(columns=['Symbol'])\n",
    "labels = y  # Target variable\n",
    "X_train, X_test, y_train, y_test = train_test_split(features, labels, test_size=0.3, random_state=42)\n",
    "\n",
    "# Train RandomForestClassifier\n",
    "clf = RandomForestClassifier(n_estimators=100, random_state=42)\n",
    "clf.fit(X_train, y_train)\n",
    "\n",
    "# Predict and evaluate\n",
    "y_pred = clf.predict(X_test)\n",
    "accuracy = accuracy_score(y_test, y_pred)\n",
    "print(f\"Accuracy: {accuracy}\")\n",
    "print(classification_report(y_test, y_pred))"
   ],
   "id": "f5a28a8e8b36d7e8",
   "outputs": [
    {
     "name": "stdout",
     "output_type": "stream",
     "text": [
      "Accuracy: 0.5942142298670836\n",
      "              precision    recall  f1-score   support\n",
      "\n",
      "         0.0       0.62      0.56      0.59       661\n",
      "         1.0       0.57      0.63      0.60       618\n",
      "\n",
      "    accuracy                           0.59      1279\n",
      "   macro avg       0.60      0.60      0.59      1279\n",
      "weighted avg       0.60      0.59      0.59      1279\n",
      "\n"
     ]
    }
   ],
   "execution_count": 78
  },
  {
   "metadata": {
    "ExecuteTime": {
     "end_time": "2025-03-06T20:23:59.056859Z",
     "start_time": "2025-03-06T20:23:49.393864Z"
    }
   },
   "cell_type": "code",
   "source": [
    "# now fit same data using these labels\n",
    "dollar_X=dollar_bars_df.loc[dollar_bins_secondary_model.index,:]\n",
    "dollar_y=dollar_bins_secondary_model['bin']\n",
    "\n",
    "# Prepare the data\n",
    "features = dollar_X\n",
    "features.reset_index(drop=True, inplace=True)\n",
    "features = features.drop(columns=['Symbol'])\n",
    "labels = dollar_y  # Target variable\n",
    "X_train, X_test, y_train, y_test = train_test_split(features, labels, test_size=0.3, random_state=42)\n",
    "\n",
    "# Train RandomForestClassifier\n",
    "clf = RandomForestClassifier(n_estimators=100, random_state=42)\n",
    "clf.fit(X_train, y_train)\n",
    "\n",
    "# Predict and evaluate\n",
    "y_pred = clf.predict(X_test)\n",
    "accuracy = accuracy_score(y_test, y_pred)\n",
    "print(f\"Accuracy: {accuracy}\")\n",
    "print(classification_report(y_test, y_pred))"
   ],
   "id": "7285c435345dc83f",
   "outputs": [
    {
     "name": "stdout",
     "output_type": "stream",
     "text": [
      "Accuracy: 0.7498101334490616\n",
      "              precision    recall  f1-score   support\n",
      "\n",
      "         0.0       0.74      0.76      0.75      4591\n",
      "         1.0       0.76      0.73      0.75      4626\n",
      "\n",
      "    accuracy                           0.75      9217\n",
      "   macro avg       0.75      0.75      0.75      9217\n",
      "weighted avg       0.75      0.75      0.75      9217\n",
      "\n"
     ]
    }
   ],
   "execution_count": 79
  },
  {
   "metadata": {},
   "cell_type": "code",
   "outputs": [],
   "execution_count": null,
   "source": "",
   "id": "4cb6f76c44bb6f7c"
  }
 ],
 "metadata": {
  "kernelspec": {
   "display_name": "Python 3",
   "language": "python",
   "name": "python3"
  },
  "language_info": {
   "codemirror_mode": {
    "name": "ipython",
    "version": 2
   },
   "file_extension": ".py",
   "mimetype": "text/x-python",
   "name": "python",
   "nbconvert_exporter": "python",
   "pygments_lexer": "ipython2",
   "version": "2.7.6"
  }
 },
 "nbformat": 4,
 "nbformat_minor": 5
}
