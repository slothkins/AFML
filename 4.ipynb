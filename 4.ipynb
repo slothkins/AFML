{
 "cells": [
  {
   "cell_type": "code",
   "id": "initial_id",
   "metadata": {
    "collapsed": true,
    "ExecuteTime": {
     "end_time": "2025-03-18T08:21:22.516369Z",
     "start_time": "2025-03-18T08:21:21.243025Z"
    }
   },
   "source": [
    "import numpy as np\n",
    "import pandas as pd\n",
    "import matplotlib.pyplot as plt\n",
    "# from scipy.conftest import num_parallel_threads\n",
    "\n",
    "import my_afml_fncs as my_afml\n",
    "from sklearn.ensemble import RandomForestClassifier\n",
    "from sklearn.model_selection import train_test_split\n",
    "from sklearn.metrics import accuracy_score, classification_report"
   ],
   "outputs": [],
   "execution_count": 1
  },
  {
   "metadata": {
    "ExecuteTime": {
     "end_time": "2025-03-18T08:21:23.780925Z",
     "start_time": "2025-03-18T08:21:22.527329Z"
    }
   },
   "cell_type": "code",
   "source": [
    "filename_end = \"2019_2024\"\n",
    "\n",
    "dollar_bars_df = pd.read_csv(f'tick_data/bars/dollar_bars_barchart_{filename_end}.csv')\n",
    "dollar_bars_df['bar_number'] = range(len(dollar_bars_df))\n",
    "dollar_bars_df['Date'] = pd.to_datetime(dollar_bars_df['Date'])\n",
    "dollar_bars_df.set_index('Date', inplace=True)\n",
    "dollar_bars_df.sort_index(inplace=True)"
   ],
   "id": "431e63b188ffa77e",
   "outputs": [],
   "execution_count": 2
  },
  {
   "metadata": {
    "ExecuteTime": {
     "end_time": "2025-03-18T08:21:23.875172Z",
     "start_time": "2025-03-18T08:21:23.856464Z"
    }
   },
   "cell_type": "code",
   "source": [
    "t1 = pd.Series([2, 3, 5], index=[0, 2, 4])  # t0,t1 for each feature obs\n",
    "barIx = range(t1.max() + 1)  # index of bars\n",
    "indM = my_afml.getIndMatrix(barIx, t1)\n",
    "phi = np.random.choice(indM.columns, size=indM.shape[1])\n",
    "print(phi)\n",
    "print('Standard uniqueness:', my_afml.getAvgUniqueness(indM[phi]).mean())\n",
    "phi = my_afml.seqBootstrap(indM)\n",
    "print(phi)\n",
    "print('Sequential uniqueness:',my_afml.getAvgUniqueness(indM[phi]).mean())\n"
   ],
   "id": "df3a79a206f942c3",
   "outputs": [
    {
     "name": "stdout",
     "output_type": "stream",
     "text": [
      "[0 1 1]\n",
      "Standard uniqueness: 0.5370370370370371\n"
     ]
    },
    {
     "name": "stderr",
     "output_type": "stream",
     "text": [
      "Sequential Bootstrap: 100%|██████████| 3/3 [00:00<00:00, 285.73it/s]"
     ]
    },
    {
     "name": "stdout",
     "output_type": "stream",
     "text": [
      "[0, 2, 0]\n",
      "Sequential uniqueness: 0.6666666666666666\n"
     ]
    },
    {
     "name": "stderr",
     "output_type": "stream",
     "text": [
      "\n"
     ]
    }
   ],
   "execution_count": 3
  },
  {
   "metadata": {
    "ExecuteTime": {
     "end_time": "2025-03-18T08:21:24.415258Z",
     "start_time": "2025-03-18T08:21:23.910364Z"
    }
   },
   "cell_type": "code",
   "source": "dollar_vol=my_afml.getDailyVol(dollar_bars_df.Close)",
   "id": "f8c5841a8efbed47",
   "outputs": [],
   "execution_count": 4
  },
  {
   "metadata": {
    "ExecuteTime": {
     "end_time": "2025-03-18T08:21:43.561772Z",
     "start_time": "2025-03-18T08:21:24.422886Z"
    }
   },
   "cell_type": "code",
   "source": [
    "# 3.1(a) apply CUSUM filet usings daily vols\n",
    "dollar_es_cusum_events=my_afml.getTEvents(dollar_bars_df.Close,dollar_vol.mean())\n",
    "print('Dollar bar CUSUM events:',dollar_es_cusum_events.shape)"
   ],
   "id": "aace3b8b6d16f127",
   "outputs": [
    {
     "name": "stdout",
     "output_type": "stream",
     "text": [
      "Dollar bar CUSUM events: (48245,)\n"
     ]
    }
   ],
   "execution_count": 5
  },
  {
   "metadata": {
    "ExecuteTime": {
     "end_time": "2025-03-18T08:21:43.571390Z",
     "start_time": "2025-03-18T08:21:43.569632Z"
    }
   },
   "cell_type": "code",
   "source": [
    "# Start of 3.4\n",
    "# Define moving average windows\n",
    "short_window = 20  # e.g., 50 periods\n",
    "long_window = 50  # e.g., 200 periods"
   ],
   "id": "46eb71311c19c9c5",
   "outputs": [],
   "execution_count": 6
  },
  {
   "metadata": {
    "ExecuteTime": {
     "end_time": "2025-03-18T08:21:43.736105Z",
     "start_time": "2025-03-18T08:21:43.635329Z"
    }
   },
   "cell_type": "code",
   "source": [
    "# create events where the moving averages cross over\n",
    "dollar_events = my_afml.movingAverageCrossover(dollar_bars_df.Close, short_window, long_window)\n",
    "# try this with a crossover sign change\n",
    "dollar_events['signal_switch'] = dollar_events.signal.diff() / 2\n",
    "# drop rows with any NaN values\n",
    "dollar_events = dollar_events.dropna()\n",
    "# filter rows where signal_switch is not zero\n",
    "dollar_events = dollar_events[dollar_events['signal_switch'] != 0]"
   ],
   "id": "d356cbc0aed9e794",
   "outputs": [],
   "execution_count": 7
  },
  {
   "metadata": {
    "ExecuteTime": {
     "end_time": "2025-03-18T08:21:43.764989Z",
     "start_time": "2025-03-18T08:21:43.758675Z"
    }
   },
   "cell_type": "code",
   "source": "dollar_t1=my_afml.getVb(dollar_bars_df.Close,dollar_events.index)",
   "id": "690264af2c3df0b9",
   "outputs": [],
   "execution_count": 8
  },
  {
   "metadata": {
    "ExecuteTime": {
     "end_time": "2025-03-18T08:21:46.422373Z",
     "start_time": "2025-03-18T08:21:43.815179Z"
    }
   },
   "cell_type": "code",
   "source": "indM=my_afml.getIndMatrix(dollar_events.index,dollar_t1)",
   "id": "bc2a9baaff02f74",
   "outputs": [],
   "execution_count": 9
  },
  {
   "metadata": {
    "ExecuteTime": {
     "end_time": "2025-03-18T08:21:46.437642Z",
     "start_time": "2025-03-18T08:21:46.435863Z"
    }
   },
   "cell_type": "code",
   "source": [
    "# phi = np.random.choice(indM.columns, size=indM.shape[1])\n",
    "# print(phi)\n",
    "# print('Standard uniqueness:', my_afml.getAvgUniqueness(indM[phi]).mean())\n",
    "# phi = my_afml.seqBootstrap(indM)\n",
    "# print(phi)"
   ],
   "id": "9682a00628e38091",
   "outputs": [],
   "execution_count": 10
  },
  {
   "metadata": {
    "ExecuteTime": {
     "end_time": "2025-03-18T08:21:46.480244Z",
     "start_time": "2025-03-18T08:21:46.478443Z"
    }
   },
   "cell_type": "code",
   "source": [
    "# out['w']=mpPandasObj(mpSampleW,('molecule',events.index),numThreads, \\\n",
    "# t1=events['t1'],numCoEvents=numCoEvents,close=close)\n",
    "# out['w']*=out.shape[0]/out['w'].sum()"
   ],
   "id": "75f61284645997c3",
   "outputs": [],
   "execution_count": 11
  },
  {
   "metadata": {
    "ExecuteTime": {
     "end_time": "2025-03-18T08:21:46.579407Z",
     "start_time": "2025-03-18T08:21:46.545593Z"
    }
   },
   "cell_type": "code",
   "source": [
    "dollar_bars_2024 = dollar_bars_df[dollar_bars_df.index.year == 2024]\n",
    "dollar_events_2024 = dollar_events[dollar_events.index.year == 2024]"
   ],
   "id": "8542b55d74f00c76",
   "outputs": [],
   "execution_count": 12
  },
  {
   "metadata": {
    "ExecuteTime": {
     "end_time": "2025-03-18T08:21:46.674450Z",
     "start_time": "2025-03-18T08:21:46.671867Z"
    }
   },
   "cell_type": "code",
   "source": "dollar_t1_2024=my_afml.getVb(dollar_bars_2024.Close,dollar_events_2024.index)",
   "id": "ce0d24a470e0eff6",
   "outputs": [],
   "execution_count": 13
  },
  {
   "metadata": {
    "ExecuteTime": {
     "end_time": "2025-03-18T08:21:46.726556Z",
     "start_time": "2025-03-18T08:21:46.725034Z"
    }
   },
   "cell_type": "code",
   "source": "",
   "id": "1c8de1a57ed53d0d",
   "outputs": [],
   "execution_count": null
  }
 ],
 "metadata": {
  "kernelspec": {
   "display_name": "Python 3",
   "language": "python",
   "name": "python3"
  },
  "language_info": {
   "codemirror_mode": {
    "name": "ipython",
    "version": 2
   },
   "file_extension": ".py",
   "mimetype": "text/x-python",
   "name": "python",
   "nbconvert_exporter": "python",
   "pygments_lexer": "ipython2",
   "version": "2.7.6"
  }
 },
 "nbformat": 4,
 "nbformat_minor": 5
}
