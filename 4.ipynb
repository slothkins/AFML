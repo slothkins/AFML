{
 "cells": [
  {
   "cell_type": "code",
   "id": "initial_id",
   "metadata": {
    "collapsed": true,
    "ExecuteTime": {
     "end_time": "2025-03-18T14:11:30.460593Z",
     "start_time": "2025-03-18T14:11:29.622572Z"
    }
   },
   "source": [
    "import numpy as np\n",
    "import pandas as pd\n",
    "import matplotlib.pyplot as plt\n",
    "# from scipy.conftest import num_parallel_threads\n",
    "\n",
    "import my_afml_fncs as my_afml\n",
    "from sklearn.ensemble import RandomForestClassifier\n",
    "from sklearn.model_selection import train_test_split\n",
    "from sklearn.metrics import accuracy_score, classification_report"
   ],
   "outputs": [],
   "execution_count": 1
  },
  {
   "metadata": {
    "ExecuteTime": {
     "end_time": "2025-03-18T14:11:31.698462Z",
     "start_time": "2025-03-18T14:11:30.465055Z"
    }
   },
   "cell_type": "code",
   "source": [
    "filename_end = \"2019_2024\"\n",
    "\n",
    "dollar_bars_df = pd.read_csv(f'tick_data/bars/dollar_bars_barchart_{filename_end}.csv')\n",
    "dollar_bars_df['bar_number'] = range(len(dollar_bars_df))\n",
    "dollar_bars_df['Date'] = pd.to_datetime(dollar_bars_df['Date'])\n",
    "dollar_bars_df.set_index('Date', inplace=True)\n",
    "dollar_bars_df.sort_index(inplace=True)"
   ],
   "id": "431e63b188ffa77e",
   "outputs": [],
   "execution_count": 2
  },
  {
   "metadata": {
    "ExecuteTime": {
     "end_time": "2025-03-18T14:11:31.785128Z",
     "start_time": "2025-03-18T14:11:31.767041Z"
    }
   },
   "cell_type": "code",
   "source": [
    "t1 = pd.Series([2, 3, 5], index=[0, 2, 4])  # t0,t1 for each feature obs\n",
    "barIx = range(t1.max() + 1)  # index of bars\n",
    "indM = my_afml.getIndMatrix(barIx, t1)\n",
    "phi = np.random.choice(indM.columns, size=indM.shape[1])\n",
    "print(phi)\n",
    "print('Standard uniqueness:', my_afml.getAvgUniqueness(indM[phi]).mean())\n",
    "phi = my_afml.seqBootstrap(indM)\n",
    "print(phi)\n",
    "print('Sequential uniqueness:',my_afml.getAvgUniqueness(indM[phi]).mean())\n"
   ],
   "id": "df3a79a206f942c3",
   "outputs": [
    {
     "name": "stdout",
     "output_type": "stream",
     "text": [
      "[1 0 1]\n",
      "Standard uniqueness: 0.5370370370370371\n"
     ]
    },
    {
     "name": "stderr",
     "output_type": "stream",
     "text": [
      "Sequential Bootstrap: 100%|██████████| 3/3 [00:00<00:00, 285.11it/s]"
     ]
    },
    {
     "name": "stdout",
     "output_type": "stream",
     "text": [
      "[0, 2, 0]\n",
      "Sequential uniqueness: 0.6666666666666666\n"
     ]
    },
    {
     "name": "stderr",
     "output_type": "stream",
     "text": [
      "\n"
     ]
    }
   ],
   "execution_count": 3
  },
  {
   "metadata": {
    "ExecuteTime": {
     "end_time": "2025-03-18T14:11:32.337972Z",
     "start_time": "2025-03-18T14:11:31.813686Z"
    }
   },
   "cell_type": "code",
   "source": "dollar_vol=my_afml.getDailyVol(dollar_bars_df.Close)",
   "id": "f8c5841a8efbed47",
   "outputs": [],
   "execution_count": 4
  },
  {
   "metadata": {
    "ExecuteTime": {
     "end_time": "2025-03-18T14:11:51.604374Z",
     "start_time": "2025-03-18T14:11:32.345639Z"
    }
   },
   "cell_type": "code",
   "source": [
    "# 3.1(a) apply CUSUM filet usings daily vols\n",
    "dollar_es_cusum_events=my_afml.getTEvents(dollar_bars_df.Close,dollar_vol.mean())\n",
    "print('Dollar bar CUSUM events:',dollar_es_cusum_events.shape)"
   ],
   "id": "aace3b8b6d16f127",
   "outputs": [
    {
     "name": "stdout",
     "output_type": "stream",
     "text": [
      "Dollar bar CUSUM events: (48245,)\n"
     ]
    }
   ],
   "execution_count": 5
  },
  {
   "metadata": {
    "ExecuteTime": {
     "end_time": "2025-03-18T14:11:51.614211Z",
     "start_time": "2025-03-18T14:11:51.612375Z"
    }
   },
   "cell_type": "code",
   "source": [
    "# Define moving average windows\n",
    "short_window = 50  # e.g., 50 periods\n",
    "long_window = 1000  # e.g., 200 periods"
   ],
   "id": "46eb71311c19c9c5",
   "outputs": [],
   "execution_count": 6
  },
  {
   "metadata": {
    "ExecuteTime": {
     "end_time": "2025-03-18T14:11:51.755027Z",
     "start_time": "2025-03-18T14:11:51.655028Z"
    }
   },
   "cell_type": "code",
   "source": [
    "# create events where the moving averages cross over\n",
    "dollar_events = my_afml.movingAverageCrossover(dollar_bars_df.Close, short_window, long_window)\n",
    "# try this with a crossover sign change\n",
    "dollar_events['signal_switch'] = dollar_events.signal.diff() / 2\n",
    "# drop rows with any NaN values\n",
    "dollar_events = dollar_events.dropna()\n",
    "# filter rows where signal_switch is not zero\n",
    "dollar_events = dollar_events[dollar_events['signal_switch'] != 0]"
   ],
   "id": "d356cbc0aed9e794",
   "outputs": [],
   "execution_count": 7
  },
  {
   "metadata": {
    "ExecuteTime": {
     "end_time": "2025-03-18T14:11:51.766312Z",
     "start_time": "2025-03-18T14:11:51.763523Z"
    }
   },
   "cell_type": "code",
   "source": "dollar_t1=my_afml.getVb(dollar_bars_df.Close,dollar_events.index)",
   "id": "690264af2c3df0b9",
   "outputs": [],
   "execution_count": 8
  },
  {
   "metadata": {
    "ExecuteTime": {
     "end_time": "2025-03-18T14:11:52.024993Z",
     "start_time": "2025-03-18T14:11:51.805946Z"
    }
   },
   "cell_type": "code",
   "source": "indM=my_afml.getIndMatrix(dollar_events.index,dollar_t1)",
   "id": "bc2a9baaff02f74",
   "outputs": [],
   "execution_count": 9
  },
  {
   "metadata": {
    "ExecuteTime": {
     "end_time": "2025-03-18T14:11:52.037486Z",
     "start_time": "2025-03-18T14:11:52.035924Z"
    }
   },
   "cell_type": "code",
   "source": [
    "# phi = np.random.choice(indM.columns, size=indM.shape[1])\n",
    "# print(phi)\n",
    "# print('Standard uniqueness:', my_afml.getAvgUniqueness(indM[phi]).mean())\n",
    "# phi = my_afml.seqBootstrap(indM)\n",
    "# print(phi)"
   ],
   "id": "9682a00628e38091",
   "outputs": [],
   "execution_count": 10
  },
  {
   "metadata": {
    "ExecuteTime": {
     "end_time": "2025-03-18T14:11:52.079853Z",
     "start_time": "2025-03-18T14:11:52.078085Z"
    }
   },
   "cell_type": "code",
   "source": [
    "# out['w']=mpPandasObj(mpSampleW,('molecule',events.index),numThreads, \\\n",
    "# t1=events['t1'],numCoEvents=numCoEvents,close=close)\n",
    "# out['w']*=out.shape[0]/out['w'].sum()"
   ],
   "id": "75f61284645997c3",
   "outputs": [],
   "execution_count": 11
  },
  {
   "metadata": {
    "ExecuteTime": {
     "end_time": "2025-03-18T14:11:52.155356Z",
     "start_time": "2025-03-18T14:11:52.122361Z"
    }
   },
   "cell_type": "code",
   "source": [
    "dollar_bars_2024 = dollar_bars_df[dollar_bars_df.index.year == 2024]\n",
    "dollar_events_2024 = dollar_events[dollar_events.index.year == 2024]"
   ],
   "id": "8542b55d74f00c76",
   "outputs": [],
   "execution_count": 12
  },
  {
   "metadata": {
    "ExecuteTime": {
     "end_time": "2025-03-18T14:11:52.170071Z",
     "start_time": "2025-03-18T14:11:52.168054Z"
    }
   },
   "cell_type": "code",
   "source": "dollar_t1_2024=my_afml.getVb(dollar_bars_2024.Close,dollar_events_2024.index)",
   "id": "bef9f6765b0e9bc",
   "outputs": [],
   "execution_count": 13
  },
  {
   "metadata": {
    "ExecuteTime": {
     "end_time": "2025-03-18T14:11:52.245364Z",
     "start_time": "2025-03-18T14:11:52.211043Z"
    }
   },
   "cell_type": "code",
   "source": "dollar_vol_2024=my_afml.getDailyVol(dollar_bars_2024.Close)",
   "id": "93d44f06b6966d69",
   "outputs": [],
   "execution_count": 14
  },
  {
   "metadata": {
    "ExecuteTime": {
     "end_time": "2025-03-18T14:11:56.316780Z",
     "start_time": "2025-03-18T14:11:52.322395Z"
    }
   },
   "cell_type": "code",
   "source": [
    "ptsl=[1,1]\n",
    "# target is set to be standard deviation\n",
    "dollar_trgt_2024=dollar_vol*dollar_bars_2024.Close\n",
    "# trgt is variable but we can set a fixed minimum return minRet=0.00003\n",
    "numThread=128\n",
    "minRet=0.00003\n",
    "# get events will find time of first touch after each event\n",
    "dollar_trigger_secondary_model_2024=my_afml.getEvents(dollar_bars_2024.Close, dollar_events_2024.index, ptsl, dollar_trgt_2024, minRet, numThread, dollar_t1)"
   ],
   "id": "ce0d24a470e0eff6",
   "outputs": [
    {
     "name": "stdout",
     "output_type": "stream",
     "text": [
      "Running processJobs\n"
     ]
    },
    {
     "name": "stderr",
     "output_type": "stream",
     "text": [
      "2025-03-18 14:11:56.078292 100.0% applyPtSlOnT1 done after 0.03 minutes. Remaining 0.0 minutes.\n"
     ]
    }
   ],
   "execution_count": 15
  },
  {
   "metadata": {
    "ExecuteTime": {
     "end_time": "2025-03-18T14:11:56.333495Z",
     "start_time": "2025-03-18T14:11:56.331511Z"
    }
   },
   "cell_type": "code",
   "source": [
    "numThreads=128\n",
    "out=pd.DataFrame()\n",
    "close=dollar_bars_2024.Close\n",
    "events=dollar_trigger_secondary_model_2024"
   ],
   "id": "e2504a9afe69c7e1",
   "outputs": [],
   "execution_count": 16
  },
  {
   "metadata": {},
   "cell_type": "markdown",
   "source": "Calculate number of co-events at each point",
   "id": "44d645eb3e3bdee6"
  },
  {
   "metadata": {
    "ExecuteTime": {
     "end_time": "2025-03-18T14:11:59.034762Z",
     "start_time": "2025-03-18T14:11:56.376128Z"
    }
   },
   "cell_type": "code",
   "source": [
    "numCoEvents=my_afml.mpPandasObj(my_afml.mpNumCoEvents,('molecule',events.index),numThreads, \\\n",
    "closeIdx=close.index,t1=events['t1'])"
   ],
   "id": "127b04ed4dcaafa",
   "outputs": [
    {
     "name": "stdout",
     "output_type": "stream",
     "text": [
      "Running processJobs\n"
     ]
    },
    {
     "name": "stderr",
     "output_type": "stream",
     "text": [
      "2025-03-18 14:11:58.881692 100.0% mpNumCoEvents done after 0.01 minutes. Remaining 0.0 minutes.\n"
     ]
    }
   ],
   "execution_count": 17
  },
  {
   "metadata": {},
   "cell_type": "markdown",
   "source": "Calculate average uniqueness of each label",
   "id": "a4c31bdacff94a62"
  },
  {
   "metadata": {
    "ExecuteTime": {
     "end_time": "2025-03-18T14:12:03.630040Z",
     "start_time": "2025-03-18T14:11:59.053032Z"
    }
   },
   "cell_type": "code",
   "source": [
    "out['tW']=my_afml.mpPandasObj(my_afml.mpSampleTW,('molecule',events.index),numThreads, \\\n",
    "t1=events['t1'],numCoEvents=numCoEvents)"
   ],
   "id": "8019805decc061c2",
   "outputs": [
    {
     "name": "stdout",
     "output_type": "stream",
     "text": [
      "Running processJobs\n"
     ]
    },
    {
     "name": "stderr",
     "output_type": "stream",
     "text": [
      "2025-03-18 14:12:03.397147 100.0% mpSampleTW done after 0.04 minutes. Remaining 0.0 minutes.\n"
     ]
    }
   ],
   "execution_count": 18
  },
  {
   "metadata": {},
   "cell_type": "markdown",
   "source": "Calculate mean average uniqueness",
   "id": "fa3ac1fca47b2a81"
  },
  {
   "metadata": {
    "ExecuteTime": {
     "end_time": "2025-03-18T14:12:03.651054Z",
     "start_time": "2025-03-18T14:12:03.648989Z"
    }
   },
   "cell_type": "code",
   "source": "mean_avergage_uniqueness=out['tW'].mean()",
   "id": "457c23744bc10809",
   "outputs": [],
   "execution_count": 19
  },
  {
   "metadata": {},
   "cell_type": "markdown",
   "source": "0.05 << 1",
   "id": "1e5e7442acf6a477"
  },
  {
   "metadata": {
    "ExecuteTime": {
     "end_time": "2025-03-18T22:18:54.605790Z",
     "start_time": "2025-03-18T22:18:54.501247Z"
    }
   },
   "cell_type": "code",
   "source": [
    "serial_correlation = out['tW'].autocorr()\n",
    "print(f\"Serial Correlation of 'tW': {serial_correlation}\")"
   ],
   "id": "754e1e2f7315a364",
   "outputs": [
    {
     "name": "stdout",
     "output_type": "stream",
     "text": [
      "Serial Correlation of 'tW': 0.5239922155080112\n"
     ]
    }
   ],
   "execution_count": 20
  },
  {
   "metadata": {
    "ExecuteTime": {
     "end_time": "2025-03-18T22:20:11.276051Z",
     "start_time": "2025-03-18T22:20:11.271800Z"
    }
   },
   "cell_type": "code",
   "source": [
    "from scipy.stats import t\n",
    "\n",
    "# Number of observations in 'tW' (degrees of freedom = n-2 for correlation)\n",
    "n = out['tW'].dropna().shape[0]\n",
    "\n",
    "# Compute statistical significance (two-tailed test for correlation)\n",
    "t_stat = serial_correlation * ((n - 2) ** 0.5) / ((1 - serial_correlation ** 2) ** 0.5)\n",
    "p_value = 2 * t.sf(abs(t_stat), n - 2)  # Two-tailed p-value\n",
    "\n",
    "# Print the results\n",
    "print(f\"Serial Correlation of 'tW': {serial_correlation}\")\n",
    "print(f\"t-statistic: {t_stat}\")\n",
    "print(f\"p-value: {p_value}\")\n",
    "\n",
    "# Determine significance level\n",
    "if p_value < 0.05:\n",
    "    print(\"The serial correlation is statistically significant (p < 0.05).\")\n",
    "else:\n",
    "    print(\"The serial correlation is not statistically significant (p >= 0.05).\")"
   ],
   "id": "47dc55db371067a4",
   "outputs": [
    {
     "name": "stdout",
     "output_type": "stream",
     "text": [
      "Serial Correlation of 'tW': 0.5239922155080112\n",
      "t-statistic: 14.68804048988226\n",
      "p-value: 1.1819331953049815e-41\n",
      "The serial correlation is statistically significant (p < 0.05).\n"
     ]
    }
   ],
   "execution_count": 21
  },
  {
   "metadata": {},
   "cell_type": "markdown",
   "source": "4.3",
   "id": "136bc837e4ec3755"
  },
  {
   "metadata": {
    "ExecuteTime": {
     "end_time": "2025-03-18T22:24:30.464648Z",
     "start_time": "2025-03-18T22:24:30.458144Z"
    }
   },
   "cell_type": "code",
   "source": "dollar_bins_secondary_model_2024=my_afml.getBins(dollar_trigger_secondary_model_2024,dollar_bars_2024.Close)\n",
   "id": "ad55d23ea1e567f5",
   "outputs": [],
   "execution_count": 22
  },
  {
   "metadata": {
    "ExecuteTime": {
     "end_time": "2025-03-18T22:26:08.220822Z",
     "start_time": "2025-03-18T22:26:08.083125Z"
    }
   },
   "cell_type": "code",
   "source": [
    "# now fit same data using these labels\n",
    "dollar_X=dollar_bars_df.loc[dollar_bins_secondary_model_2024.index,:]\n",
    "dollar_y=dollar_bins_secondary_model_2024['bin']\n",
    "\n",
    "# Prepare the data\n",
    "features = dollar_X\n",
    "features.reset_index(drop=True, inplace=True)\n",
    "features = features.drop(columns=['Symbol'])\n",
    "labels = dollar_y  # Target variable\n",
    "X_train, X_test, y_train, y_test = train_test_split(features, labels, test_size=0.3, random_state=42)\n",
    "\n",
    "# Train RandomForestClassifier\n",
    "clf = RandomForestClassifier(n_estimators=100, random_state=42)\n",
    "clf.fit(X_train, y_train)\n",
    "\n",
    "\n",
    "#4.3(a)\n",
    "# Predict and evaluate\n",
    "y_pred = clf.predict(X_test)\n",
    "accuracy = accuracy_score(y_test, y_pred)\n",
    "print(f\"Accuracy: {accuracy}\")\n",
    "print(classification_report(y_test, y_pred))"
   ],
   "id": "872f440faafb5c01",
   "outputs": [
    {
     "name": "stdout",
     "output_type": "stream",
     "text": [
      "Accuracy: 0.7660818713450293\n",
      "              precision    recall  f1-score   support\n",
      "\n",
      "        -1.0       0.81      0.65      0.72        78\n",
      "         0.0       0.00      0.00      0.00         0\n",
      "         1.0       0.75      0.86      0.80        93\n",
      "\n",
      "    accuracy                           0.77       171\n",
      "   macro avg       0.52      0.50      0.51       171\n",
      "weighted avg       0.78      0.77      0.77       171\n",
      "\n"
     ]
    },
    {
     "name": "stderr",
     "output_type": "stream",
     "text": [
      "/home/mmx/anaconda3/envs/AFML/lib/python3.12/site-packages/sklearn/metrics/_classification.py:1565: UndefinedMetricWarning: Recall is ill-defined and being set to 0.0 in labels with no true samples. Use `zero_division` parameter to control this behavior.\n",
      "  _warn_prf(average, modifier, f\"{metric.capitalize()} is\", len(result))\n",
      "/home/mmx/anaconda3/envs/AFML/lib/python3.12/site-packages/sklearn/metrics/_classification.py:1565: UndefinedMetricWarning: Recall is ill-defined and being set to 0.0 in labels with no true samples. Use `zero_division` parameter to control this behavior.\n",
      "  _warn_prf(average, modifier, f\"{metric.capitalize()} is\", len(result))\n",
      "/home/mmx/anaconda3/envs/AFML/lib/python3.12/site-packages/sklearn/metrics/_classification.py:1565: UndefinedMetricWarning: Recall is ill-defined and being set to 0.0 in labels with no true samples. Use `zero_division` parameter to control this behavior.\n",
      "  _warn_prf(average, modifier, f\"{metric.capitalize()} is\", len(result))\n"
     ]
    }
   ],
   "execution_count": 23
  },
  {
   "metadata": {
    "ExecuteTime": {
     "end_time": "2025-03-18T22:30:17.515152Z",
     "start_time": "2025-03-18T22:30:16.858555Z"
    }
   },
   "cell_type": "code",
   "source": [
    "#4.3(b)\n",
    "from sklearn.model_selection import KFold, cross_val_score\n",
    "\n",
    "kf = KFold(n_splits=5, shuffle=False)\n",
    "clf = RandomForestClassifier(n_estimators=100, random_state=42)\n",
    "\n",
    "scores = cross_val_score(clf, features, labels, cv=kf, scoring='accuracy')\n",
    "\n",
    "print(f\"K-Fold Cross-Validation Scores: {scores}\")\n",
    "print(f\"Mean Accuracy: {scores.mean()}\")"
   ],
   "id": "ef94c58c65b64d8b",
   "outputs": [
    {
     "name": "stdout",
     "output_type": "stream",
     "text": [
      "K-Fold Cross-Validation Scores: [0.62280702 0.4122807  0.4122807  0.46491228 0.57017544]\n",
      "Mean Accuracy: 0.49649122807017554\n"
     ]
    }
   ],
   "execution_count": 25
  },
  {
   "metadata": {},
   "cell_type": "code",
   "outputs": [],
   "execution_count": null,
   "source": "",
   "id": "86f904322953ef61"
  }
 ],
 "metadata": {
  "kernelspec": {
   "display_name": "Python 3",
   "language": "python",
   "name": "python3"
  },
  "language_info": {
   "codemirror_mode": {
    "name": "ipython",
    "version": 2
   },
   "file_extension": ".py",
   "mimetype": "text/x-python",
   "name": "python",
   "nbconvert_exporter": "python",
   "pygments_lexer": "ipython2",
   "version": "2.7.6"
  }
 },
 "nbformat": 4,
 "nbformat_minor": 5
}
